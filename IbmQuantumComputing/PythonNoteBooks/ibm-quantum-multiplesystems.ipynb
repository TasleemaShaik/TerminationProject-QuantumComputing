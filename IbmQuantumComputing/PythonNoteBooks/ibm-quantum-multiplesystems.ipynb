{
 "cells": [
  {
   "cell_type": "markdown",
   "id": "49be2982",
   "metadata": {
    "papermill": {
     "duration": 0.003814,
     "end_time": "2025-05-16T02:46:37.706216",
     "exception": false,
     "start_time": "2025-05-16T02:46:37.702402",
     "status": "completed"
    },
    "tags": []
   },
   "source": [
    "# [](http://)IBM Quantum Learning, Basics of Quantum Information \n",
    "# (2) Multiple Systems\n",
    "* As a part of my learning, I'm trying to understand the basic framework of quantum information.\n",
    "* There are, in fact, two common mathematical descriptions of quantum information. Single Systems and Multiple Systems.\n",
    "* This sub-course Multiple Systems gives us idea that we can always choose to view multiple systems together as if they form a single, compound system to which the discussion in the previous lesson applies. Indeed, this idea very directly leads to a description of how quantum states, measurements, and operations work for multiple systems.\n",
    "* There is, however, more to understanding multiple quantum systems than simply recognizing that they may be viewed collectively as single systems.\n",
    "* For instance, we may have multiple quantum systems that are collectively in a particular quantum state, and then choose to measure some but not all of the individual systems. \n",
    "# Major Topics Covered\n",
    "* Classical Information\n",
    "  * Classical states via the Cartesian product\n",
    "  * Probabilistic states\n",
    "  * Measurements of probabilistic states\n",
    "  * Operations on probabilistic states\n",
    "* Quantum Information\n",
    "  * Quantum states\n",
    "  * Measurements of Quantum States\n",
    "  * Unitary Operations\n",
    "* Qiskit Implementations\n",
    "  * Tensor Products\n",
    "  * Partial Measurements"
   ]
  },
  {
   "cell_type": "markdown",
   "id": "790705f0",
   "metadata": {
    "papermill": {
     "duration": 0.002877,
     "end_time": "2025-05-16T02:46:37.711949",
     "exception": false,
     "start_time": "2025-05-16T02:46:37.709072",
     "status": "completed"
    },
    "tags": []
   },
   "source": [
    "# Installing Required Qiskit Package through pip install"
   ]
  },
  {
   "cell_type": "code",
   "execution_count": 1,
   "id": "fb742f7b",
   "metadata": {
    "execution": {
     "iopub.execute_input": "2025-05-16T02:46:37.718517Z",
     "iopub.status.busy": "2025-05-16T02:46:37.718279Z",
     "iopub.status.idle": "2025-05-16T02:46:55.290944Z",
     "shell.execute_reply": "2025-05-16T02:46:55.290040Z"
    },
    "papermill": {
     "duration": 17.57783,
     "end_time": "2025-05-16T02:46:55.292463",
     "exception": false,
     "start_time": "2025-05-16T02:46:37.714633",
     "status": "completed"
    },
    "tags": []
   },
   "outputs": [
    {
     "name": "stdout",
     "output_type": "stream",
     "text": [
      "Collecting qiskit\r\n",
      "  Downloading qiskit-2.0.0-cp39-abi3-manylinux_2_17_x86_64.manylinux2014_x86_64.whl.metadata (12 kB)\r\n",
      "Collecting rustworkx>=0.15.0 (from qiskit)\r\n",
      "  Downloading rustworkx-0.16.0-cp39-abi3-manylinux_2_17_x86_64.manylinux2014_x86_64.whl.metadata (10 kB)\r\n",
      "Requirement already satisfied: numpy<3,>=1.17 in /usr/local/lib/python3.11/dist-packages (from qiskit) (1.26.4)\r\n",
      "Requirement already satisfied: scipy>=1.5 in /usr/local/lib/python3.11/dist-packages (from qiskit) (1.15.2)\r\n",
      "Requirement already satisfied: sympy>=1.3 in /usr/local/lib/python3.11/dist-packages (from qiskit) (1.13.1)\r\n",
      "Requirement already satisfied: dill>=0.3 in /usr/local/lib/python3.11/dist-packages (from qiskit) (0.3.8)\r\n",
      "Requirement already satisfied: python-dateutil>=2.8.0 in /usr/local/lib/python3.11/dist-packages (from qiskit) (2.9.0.post0)\r\n",
      "Collecting stevedore>=3.0.0 (from qiskit)\r\n",
      "  Downloading stevedore-5.4.1-py3-none-any.whl.metadata (2.3 kB)\r\n",
      "Requirement already satisfied: typing-extensions in /usr/local/lib/python3.11/dist-packages (from qiskit) (4.13.1)\r\n",
      "Collecting symengine<0.14,>=0.11 (from qiskit)\r\n",
      "  Downloading symengine-0.13.0-cp311-cp311-manylinux_2_17_x86_64.manylinux2014_x86_64.whl.metadata (1.2 kB)\r\n",
      "Requirement already satisfied: mkl_fft in /usr/local/lib/python3.11/dist-packages (from numpy<3,>=1.17->qiskit) (1.3.8)\r\n",
      "Requirement already satisfied: mkl_random in /usr/local/lib/python3.11/dist-packages (from numpy<3,>=1.17->qiskit) (1.2.4)\r\n",
      "Requirement already satisfied: mkl_umath in /usr/local/lib/python3.11/dist-packages (from numpy<3,>=1.17->qiskit) (0.1.1)\r\n",
      "Requirement already satisfied: mkl in /usr/local/lib/python3.11/dist-packages (from numpy<3,>=1.17->qiskit) (2025.1.0)\r\n",
      "Requirement already satisfied: tbb4py in /usr/local/lib/python3.11/dist-packages (from numpy<3,>=1.17->qiskit) (2022.1.0)\r\n",
      "Requirement already satisfied: mkl-service in /usr/local/lib/python3.11/dist-packages (from numpy<3,>=1.17->qiskit) (2.4.1)\r\n",
      "Requirement already satisfied: six>=1.5 in /usr/local/lib/python3.11/dist-packages (from python-dateutil>=2.8.0->qiskit) (1.17.0)\r\n",
      "Collecting pbr>=2.0.0 (from stevedore>=3.0.0->qiskit)\r\n",
      "  Downloading pbr-6.1.1-py2.py3-none-any.whl.metadata (3.4 kB)\r\n",
      "Requirement already satisfied: mpmath<1.4,>=1.1.0 in /usr/local/lib/python3.11/dist-packages (from sympy>=1.3->qiskit) (1.3.0)\r\n",
      "Requirement already satisfied: setuptools in /usr/local/lib/python3.11/dist-packages (from pbr>=2.0.0->stevedore>=3.0.0->qiskit) (75.1.0)\r\n",
      "Requirement already satisfied: intel-openmp<2026,>=2024 in /usr/local/lib/python3.11/dist-packages (from mkl->numpy<3,>=1.17->qiskit) (2024.2.0)\r\n",
      "Requirement already satisfied: tbb==2022.* in /usr/local/lib/python3.11/dist-packages (from mkl->numpy<3,>=1.17->qiskit) (2022.1.0)\r\n",
      "Requirement already satisfied: tcmlib==1.* in /usr/local/lib/python3.11/dist-packages (from tbb==2022.*->mkl->numpy<3,>=1.17->qiskit) (1.2.0)\r\n",
      "Requirement already satisfied: intel-cmplr-lib-rt in /usr/local/lib/python3.11/dist-packages (from mkl_umath->numpy<3,>=1.17->qiskit) (2024.2.0)\r\n",
      "Requirement already satisfied: intel-cmplr-lib-ur==2024.2.0 in /usr/local/lib/python3.11/dist-packages (from intel-openmp<2026,>=2024->mkl->numpy<3,>=1.17->qiskit) (2024.2.0)\r\n",
      "Downloading qiskit-2.0.0-cp39-abi3-manylinux_2_17_x86_64.manylinux2014_x86_64.whl (6.5 MB)\r\n",
      "\u001b[2K   \u001b[90m━━━━━━━━━━━━━━━━━━━━━━━━━━━━━━━━━━━━━━━━\u001b[0m \u001b[32m6.5/6.5 MB\u001b[0m \u001b[31m69.9 MB/s\u001b[0m eta \u001b[36m0:00:00\u001b[0m\r\n",
      "\u001b[?25hDownloading rustworkx-0.16.0-cp39-abi3-manylinux_2_17_x86_64.manylinux2014_x86_64.whl (2.1 MB)\r\n",
      "\u001b[2K   \u001b[90m━━━━━━━━━━━━━━━━━━━━━━━━━━━━━━━━━━━━━━━━\u001b[0m \u001b[32m2.1/2.1 MB\u001b[0m \u001b[31m58.0 MB/s\u001b[0m eta \u001b[36m0:00:00\u001b[0m\r\n",
      "\u001b[?25hDownloading stevedore-5.4.1-py3-none-any.whl (49 kB)\r\n",
      "\u001b[2K   \u001b[90m━━━━━━━━━━━━━━━━━━━━━━━━━━━━━━━━━━━━━━━━\u001b[0m \u001b[32m49.5/49.5 kB\u001b[0m \u001b[31m2.7 MB/s\u001b[0m eta \u001b[36m0:00:00\u001b[0m\r\n",
      "\u001b[?25hDownloading symengine-0.13.0-cp311-cp311-manylinux_2_17_x86_64.manylinux2014_x86_64.whl (49.7 MB)\r\n",
      "\u001b[2K   \u001b[90m━━━━━━━━━━━━━━━━━━━━━━━━━━━━━━━━━━━━━━━━\u001b[0m \u001b[32m49.7/49.7 MB\u001b[0m \u001b[31m29.3 MB/s\u001b[0m eta \u001b[36m0:00:00\u001b[0m\r\n",
      "\u001b[?25hDownloading pbr-6.1.1-py2.py3-none-any.whl (108 kB)\r\n",
      "\u001b[2K   \u001b[90m━━━━━━━━━━━━━━━━━━━━━━━━━━━━━━━━━━━━━━━━\u001b[0m \u001b[32m109.0/109.0 kB\u001b[0m \u001b[31m4.2 MB/s\u001b[0m eta \u001b[36m0:00:00\u001b[0m\r\n",
      "\u001b[?25hInstalling collected packages: symengine, pbr, stevedore, rustworkx, qiskit\r\n",
      "Successfully installed pbr-6.1.1 qiskit-2.0.0 rustworkx-0.16.0 stevedore-5.4.1 symengine-0.13.0\r\n",
      "Collecting qiskit-ibm-runtime\r\n",
      "  Downloading qiskit_ibm_runtime-0.39.0-py3-none-any.whl.metadata (21 kB)\r\n",
      "Requirement already satisfied: requests>=2.19 in /usr/local/lib/python3.11/dist-packages (from qiskit-ibm-runtime) (2.32.3)\r\n",
      "Collecting requests-ntlm>=1.1.0 (from qiskit-ibm-runtime)\r\n",
      "  Downloading requests_ntlm-1.3.0-py3-none-any.whl.metadata (2.4 kB)\r\n",
      "Requirement already satisfied: numpy>=1.13 in /usr/local/lib/python3.11/dist-packages (from qiskit-ibm-runtime) (1.26.4)\r\n",
      "Requirement already satisfied: urllib3>=1.21.1 in /usr/local/lib/python3.11/dist-packages (from qiskit-ibm-runtime) (2.3.0)\r\n",
      "Requirement already satisfied: python-dateutil>=2.8.0 in /usr/local/lib/python3.11/dist-packages (from qiskit-ibm-runtime) (2.9.0.post0)\r\n",
      "Collecting ibm-platform-services>=0.22.6 (from qiskit-ibm-runtime)\r\n",
      "  Downloading ibm_platform_services-0.65.0-py3-none-any.whl.metadata (9.0 kB)\r\n",
      "Requirement already satisfied: pydantic>=2.5.0 in /usr/local/lib/python3.11/dist-packages (from qiskit-ibm-runtime) (2.11.3)\r\n",
      "Requirement already satisfied: qiskit>=1.4.1 in /usr/local/lib/python3.11/dist-packages (from qiskit-ibm-runtime) (2.0.0)\r\n",
      "Requirement already satisfied: packaging in /usr/local/lib/python3.11/dist-packages (from qiskit-ibm-runtime) (24.2)\r\n",
      "Collecting ibm_cloud_sdk_core<4.0.0,>=3.22.1 (from ibm-platform-services>=0.22.6->qiskit-ibm-runtime)\r\n",
      "  Downloading ibm_cloud_sdk_core-3.23.0-py3-none-any.whl.metadata (8.7 kB)\r\n",
      "Requirement already satisfied: mkl_fft in /usr/local/lib/python3.11/dist-packages (from numpy>=1.13->qiskit-ibm-runtime) (1.3.8)\r\n",
      "Requirement already satisfied: mkl_random in /usr/local/lib/python3.11/dist-packages (from numpy>=1.13->qiskit-ibm-runtime) (1.2.4)\r\n",
      "Requirement already satisfied: mkl_umath in /usr/local/lib/python3.11/dist-packages (from numpy>=1.13->qiskit-ibm-runtime) (0.1.1)\r\n",
      "Requirement already satisfied: mkl in /usr/local/lib/python3.11/dist-packages (from numpy>=1.13->qiskit-ibm-runtime) (2025.1.0)\r\n",
      "Requirement already satisfied: tbb4py in /usr/local/lib/python3.11/dist-packages (from numpy>=1.13->qiskit-ibm-runtime) (2022.1.0)\r\n",
      "Requirement already satisfied: mkl-service in /usr/local/lib/python3.11/dist-packages (from numpy>=1.13->qiskit-ibm-runtime) (2.4.1)\r\n",
      "Requirement already satisfied: annotated-types>=0.6.0 in /usr/local/lib/python3.11/dist-packages (from pydantic>=2.5.0->qiskit-ibm-runtime) (0.7.0)\r\n",
      "Requirement already satisfied: pydantic-core==2.33.1 in /usr/local/lib/python3.11/dist-packages (from pydantic>=2.5.0->qiskit-ibm-runtime) (2.33.1)\r\n",
      "Requirement already satisfied: typing-extensions>=4.12.2 in /usr/local/lib/python3.11/dist-packages (from pydantic>=2.5.0->qiskit-ibm-runtime) (4.13.1)\r\n",
      "Requirement already satisfied: typing-inspection>=0.4.0 in /usr/local/lib/python3.11/dist-packages (from pydantic>=2.5.0->qiskit-ibm-runtime) (0.4.0)\r\n",
      "Requirement already satisfied: six>=1.5 in /usr/local/lib/python3.11/dist-packages (from python-dateutil>=2.8.0->qiskit-ibm-runtime) (1.17.0)\r\n",
      "Requirement already satisfied: rustworkx>=0.15.0 in /usr/local/lib/python3.11/dist-packages (from qiskit>=1.4.1->qiskit-ibm-runtime) (0.16.0)\r\n",
      "Requirement already satisfied: scipy>=1.5 in /usr/local/lib/python3.11/dist-packages (from qiskit>=1.4.1->qiskit-ibm-runtime) (1.15.2)\r\n",
      "Requirement already satisfied: sympy>=1.3 in /usr/local/lib/python3.11/dist-packages (from qiskit>=1.4.1->qiskit-ibm-runtime) (1.13.1)\r\n",
      "Requirement already satisfied: dill>=0.3 in /usr/local/lib/python3.11/dist-packages (from qiskit>=1.4.1->qiskit-ibm-runtime) (0.3.8)\r\n",
      "Requirement already satisfied: stevedore>=3.0.0 in /usr/local/lib/python3.11/dist-packages (from qiskit>=1.4.1->qiskit-ibm-runtime) (5.4.1)\r\n",
      "Requirement already satisfied: symengine<0.14,>=0.11 in /usr/local/lib/python3.11/dist-packages (from qiskit>=1.4.1->qiskit-ibm-runtime) (0.13.0)\r\n",
      "Requirement already satisfied: charset-normalizer<4,>=2 in /usr/local/lib/python3.11/dist-packages (from requests>=2.19->qiskit-ibm-runtime) (3.4.1)\r\n",
      "Requirement already satisfied: idna<4,>=2.5 in /usr/local/lib/python3.11/dist-packages (from requests>=2.19->qiskit-ibm-runtime) (3.10)\r\n",
      "Requirement already satisfied: certifi>=2017.4.17 in /usr/local/lib/python3.11/dist-packages (from requests>=2.19->qiskit-ibm-runtime) (2025.1.31)\r\n",
      "Requirement already satisfied: cryptography>=1.3 in /usr/local/lib/python3.11/dist-packages (from requests-ntlm>=1.1.0->qiskit-ibm-runtime) (44.0.2)\r\n",
      "Collecting pyspnego>=0.4.0 (from requests-ntlm>=1.1.0->qiskit-ibm-runtime)\r\n",
      "  Downloading pyspnego-0.11.2-py3-none-any.whl.metadata (5.4 kB)\r\n",
      "Requirement already satisfied: cffi>=1.12 in /usr/local/lib/python3.11/dist-packages (from cryptography>=1.3->requests-ntlm>=1.1.0->qiskit-ibm-runtime) (1.17.1)\r\n",
      "Requirement already satisfied: PyJWT<3.0.0,>=2.8.0 in /usr/local/lib/python3.11/dist-packages (from ibm_cloud_sdk_core<4.0.0,>=3.22.1->ibm-platform-services>=0.22.6->qiskit-ibm-runtime) (2.10.1)\r\n",
      "Requirement already satisfied: pbr>=2.0.0 in /usr/local/lib/python3.11/dist-packages (from stevedore>=3.0.0->qiskit>=1.4.1->qiskit-ibm-runtime) (6.1.1)\r\n",
      "Requirement already satisfied: mpmath<1.4,>=1.1.0 in /usr/local/lib/python3.11/dist-packages (from sympy>=1.3->qiskit>=1.4.1->qiskit-ibm-runtime) (1.3.0)\r\n",
      "Requirement already satisfied: intel-openmp<2026,>=2024 in /usr/local/lib/python3.11/dist-packages (from mkl->numpy>=1.13->qiskit-ibm-runtime) (2024.2.0)\r\n",
      "Requirement already satisfied: tbb==2022.* in /usr/local/lib/python3.11/dist-packages (from mkl->numpy>=1.13->qiskit-ibm-runtime) (2022.1.0)\r\n",
      "Requirement already satisfied: tcmlib==1.* in /usr/local/lib/python3.11/dist-packages (from tbb==2022.*->mkl->numpy>=1.13->qiskit-ibm-runtime) (1.2.0)\r\n",
      "Requirement already satisfied: intel-cmplr-lib-rt in /usr/local/lib/python3.11/dist-packages (from mkl_umath->numpy>=1.13->qiskit-ibm-runtime) (2024.2.0)\r\n",
      "Requirement already satisfied: pycparser in /usr/local/lib/python3.11/dist-packages (from cffi>=1.12->cryptography>=1.3->requests-ntlm>=1.1.0->qiskit-ibm-runtime) (2.22)\r\n",
      "Requirement already satisfied: intel-cmplr-lib-ur==2024.2.0 in /usr/local/lib/python3.11/dist-packages (from intel-openmp<2026,>=2024->mkl->numpy>=1.13->qiskit-ibm-runtime) (2024.2.0)\r\n",
      "Requirement already satisfied: setuptools in /usr/local/lib/python3.11/dist-packages (from pbr>=2.0.0->stevedore>=3.0.0->qiskit>=1.4.1->qiskit-ibm-runtime) (75.1.0)\r\n",
      "Downloading qiskit_ibm_runtime-0.39.0-py3-none-any.whl (3.2 MB)\r\n",
      "\u001b[2K   \u001b[90m━━━━━━━━━━━━━━━━━━━━━━━━━━━━━━━━━━━━━━━━\u001b[0m \u001b[32m3.2/3.2 MB\u001b[0m \u001b[31m50.5 MB/s\u001b[0m eta \u001b[36m0:00:00\u001b[0m\r\n",
      "\u001b[?25hDownloading ibm_platform_services-0.65.0-py3-none-any.whl (359 kB)\r\n",
      "\u001b[2K   \u001b[90m━━━━━━━━━━━━━━━━━━━━━━━━━━━━━━━━━━━━━━━━\u001b[0m \u001b[32m359.9/359.9 kB\u001b[0m \u001b[31m16.3 MB/s\u001b[0m eta \u001b[36m0:00:00\u001b[0m\r\n",
      "\u001b[?25hDownloading requests_ntlm-1.3.0-py3-none-any.whl (6.6 kB)\r\n",
      "Downloading ibm_cloud_sdk_core-3.23.0-py3-none-any.whl (69 kB)\r\n",
      "\u001b[2K   \u001b[90m━━━━━━━━━━━━━━━━━━━━━━━━━━━━━━━━━━━━━━━━\u001b[0m \u001b[32m69.5/69.5 kB\u001b[0m \u001b[31m3.0 MB/s\u001b[0m eta \u001b[36m0:00:00\u001b[0m\r\n",
      "\u001b[?25hDownloading pyspnego-0.11.2-py3-none-any.whl (130 kB)\r\n",
      "\u001b[2K   \u001b[90m━━━━━━━━━━━━━━━━━━━━━━━━━━━━━━━━━━━━━━━━\u001b[0m \u001b[32m130.5/130.5 kB\u001b[0m \u001b[31m5.9 MB/s\u001b[0m eta \u001b[36m0:00:00\u001b[0m\r\n",
      "\u001b[?25hInstalling collected packages: ibm_cloud_sdk_core, pyspnego, ibm-platform-services, requests-ntlm, qiskit-ibm-runtime\r\n",
      "Successfully installed ibm-platform-services-0.65.0 ibm_cloud_sdk_core-3.23.0 pyspnego-0.11.2 qiskit-ibm-runtime-0.39.0 requests-ntlm-1.3.0\r\n",
      "Requirement already satisfied: qiskit[visualization] in /usr/local/lib/python3.11/dist-packages (2.0.0)\r\n",
      "Requirement already satisfied: rustworkx>=0.15.0 in /usr/local/lib/python3.11/dist-packages (from qiskit[visualization]) (0.16.0)\r\n",
      "Requirement already satisfied: numpy<3,>=1.17 in /usr/local/lib/python3.11/dist-packages (from qiskit[visualization]) (1.26.4)\r\n",
      "Requirement already satisfied: scipy>=1.5 in /usr/local/lib/python3.11/dist-packages (from qiskit[visualization]) (1.15.2)\r\n",
      "Requirement already satisfied: sympy>=1.3 in /usr/local/lib/python3.11/dist-packages (from qiskit[visualization]) (1.13.1)\r\n",
      "Requirement already satisfied: dill>=0.3 in /usr/local/lib/python3.11/dist-packages (from qiskit[visualization]) (0.3.8)\r\n",
      "Requirement already satisfied: python-dateutil>=2.8.0 in /usr/local/lib/python3.11/dist-packages (from qiskit[visualization]) (2.9.0.post0)\r\n",
      "Requirement already satisfied: stevedore>=3.0.0 in /usr/local/lib/python3.11/dist-packages (from qiskit[visualization]) (5.4.1)\r\n",
      "Requirement already satisfied: typing-extensions in /usr/local/lib/python3.11/dist-packages (from qiskit[visualization]) (4.13.1)\r\n",
      "Requirement already satisfied: symengine<0.14,>=0.11 in /usr/local/lib/python3.11/dist-packages (from qiskit[visualization]) (0.13.0)\r\n",
      "Requirement already satisfied: matplotlib>=3.3 in /usr/local/lib/python3.11/dist-packages (from qiskit[visualization]) (3.7.5)\r\n",
      "Requirement already satisfied: pydot in /usr/local/lib/python3.11/dist-packages (from qiskit[visualization]) (3.0.4)\r\n",
      "Requirement already satisfied: Pillow>=4.2.1 in /usr/local/lib/python3.11/dist-packages (from qiskit[visualization]) (11.1.0)\r\n",
      "Collecting pylatexenc>=1.4 (from qiskit[visualization])\r\n",
      "  Downloading pylatexenc-2.10.tar.gz (162 kB)\r\n",
      "\u001b[2K     \u001b[90m━━━━━━━━━━━━━━━━━━━━━━━━━━━━━━━━━━━━━━━━\u001b[0m \u001b[32m162.6/162.6 kB\u001b[0m \u001b[31m7.0 MB/s\u001b[0m eta \u001b[36m0:00:00\u001b[0m\r\n",
      "\u001b[?25h  Preparing metadata (setup.py) ... \u001b[?25l\u001b[?25hdone\r\n",
      "Requirement already satisfied: seaborn>=0.9.0 in /usr/local/lib/python3.11/dist-packages (from qiskit[visualization]) (0.12.2)\r\n",
      "Requirement already satisfied: contourpy>=1.0.1 in /usr/local/lib/python3.11/dist-packages (from matplotlib>=3.3->qiskit[visualization]) (1.3.1)\r\n",
      "Requirement already satisfied: cycler>=0.10 in /usr/local/lib/python3.11/dist-packages (from matplotlib>=3.3->qiskit[visualization]) (0.12.1)\r\n",
      "Requirement already satisfied: fonttools>=4.22.0 in /usr/local/lib/python3.11/dist-packages (from matplotlib>=3.3->qiskit[visualization]) (4.56.0)\r\n",
      "Requirement already satisfied: kiwisolver>=1.0.1 in /usr/local/lib/python3.11/dist-packages (from matplotlib>=3.3->qiskit[visualization]) (1.4.8)\r\n",
      "Requirement already satisfied: packaging>=20.0 in /usr/local/lib/python3.11/dist-packages (from matplotlib>=3.3->qiskit[visualization]) (24.2)\r\n",
      "Requirement already satisfied: pyparsing>=2.3.1 in /usr/local/lib/python3.11/dist-packages (from matplotlib>=3.3->qiskit[visualization]) (3.2.1)\r\n",
      "Requirement already satisfied: mkl_fft in /usr/local/lib/python3.11/dist-packages (from numpy<3,>=1.17->qiskit[visualization]) (1.3.8)\r\n",
      "Requirement already satisfied: mkl_random in /usr/local/lib/python3.11/dist-packages (from numpy<3,>=1.17->qiskit[visualization]) (1.2.4)\r\n",
      "Requirement already satisfied: mkl_umath in /usr/local/lib/python3.11/dist-packages (from numpy<3,>=1.17->qiskit[visualization]) (0.1.1)\r\n",
      "Requirement already satisfied: mkl in /usr/local/lib/python3.11/dist-packages (from numpy<3,>=1.17->qiskit[visualization]) (2025.1.0)\r\n",
      "Requirement already satisfied: tbb4py in /usr/local/lib/python3.11/dist-packages (from numpy<3,>=1.17->qiskit[visualization]) (2022.1.0)\r\n",
      "Requirement already satisfied: mkl-service in /usr/local/lib/python3.11/dist-packages (from numpy<3,>=1.17->qiskit[visualization]) (2.4.1)\r\n",
      "Requirement already satisfied: six>=1.5 in /usr/local/lib/python3.11/dist-packages (from python-dateutil>=2.8.0->qiskit[visualization]) (1.17.0)\r\n",
      "Requirement already satisfied: pandas>=0.25 in /usr/local/lib/python3.11/dist-packages (from seaborn>=0.9.0->qiskit[visualization]) (2.2.3)\r\n",
      "Requirement already satisfied: pbr>=2.0.0 in /usr/local/lib/python3.11/dist-packages (from stevedore>=3.0.0->qiskit[visualization]) (6.1.1)\r\n",
      "Requirement already satisfied: mpmath<1.4,>=1.1.0 in /usr/local/lib/python3.11/dist-packages (from sympy>=1.3->qiskit[visualization]) (1.3.0)\r\n",
      "Requirement already satisfied: pytz>=2020.1 in /usr/local/lib/python3.11/dist-packages (from pandas>=0.25->seaborn>=0.9.0->qiskit[visualization]) (2025.2)\r\n",
      "Requirement already satisfied: tzdata>=2022.7 in /usr/local/lib/python3.11/dist-packages (from pandas>=0.25->seaborn>=0.9.0->qiskit[visualization]) (2025.2)\r\n",
      "Requirement already satisfied: setuptools in /usr/local/lib/python3.11/dist-packages (from pbr>=2.0.0->stevedore>=3.0.0->qiskit[visualization]) (75.1.0)\r\n",
      "Requirement already satisfied: intel-openmp<2026,>=2024 in /usr/local/lib/python3.11/dist-packages (from mkl->numpy<3,>=1.17->qiskit[visualization]) (2024.2.0)\r\n",
      "Requirement already satisfied: tbb==2022.* in /usr/local/lib/python3.11/dist-packages (from mkl->numpy<3,>=1.17->qiskit[visualization]) (2022.1.0)\r\n",
      "Requirement already satisfied: tcmlib==1.* in /usr/local/lib/python3.11/dist-packages (from tbb==2022.*->mkl->numpy<3,>=1.17->qiskit[visualization]) (1.2.0)\r\n",
      "Requirement already satisfied: intel-cmplr-lib-rt in /usr/local/lib/python3.11/dist-packages (from mkl_umath->numpy<3,>=1.17->qiskit[visualization]) (2024.2.0)\r\n",
      "Requirement already satisfied: intel-cmplr-lib-ur==2024.2.0 in /usr/local/lib/python3.11/dist-packages (from intel-openmp<2026,>=2024->mkl->numpy<3,>=1.17->qiskit[visualization]) (2024.2.0)\r\n",
      "Building wheels for collected packages: pylatexenc\r\n",
      "  Building wheel for pylatexenc (setup.py) ... \u001b[?25l\u001b[?25hdone\r\n",
      "  Created wheel for pylatexenc: filename=pylatexenc-2.10-py3-none-any.whl size=136816 sha256=c89b98d2eab614d18034697b61be081ddf7b02de3380e34e6cb5622f49492bd7\r\n",
      "  Stored in directory: /root/.cache/pip/wheels/b1/7a/33/9fdd892f784ed4afda62b685ae3703adf4c91aa0f524c28f03\r\n",
      "Successfully built pylatexenc\r\n",
      "Installing collected packages: pylatexenc\r\n",
      "Successfully installed pylatexenc-2.10\r\n"
     ]
    }
   ],
   "source": [
    "!pip install qiskit\n",
    "!pip install qiskit-ibm-runtime\n",
    "!pip install qiskit[visualization]"
   ]
  },
  {
   "cell_type": "markdown",
   "id": "880e07d5",
   "metadata": {
    "papermill": {
     "duration": 0.004313,
     "end_time": "2025-05-16T02:46:55.302237",
     "exception": false,
     "start_time": "2025-05-16T02:46:55.297924",
     "status": "completed"
    },
    "tags": []
   },
   "source": [
    "# Checking Qiskit Version"
   ]
  },
  {
   "cell_type": "code",
   "execution_count": 2,
   "id": "45a9b244",
   "metadata": {
    "execution": {
     "iopub.execute_input": "2025-05-16T02:46:55.313266Z",
     "iopub.status.busy": "2025-05-16T02:46:55.312363Z",
     "iopub.status.idle": "2025-05-16T02:46:55.676317Z",
     "shell.execute_reply": "2025-05-16T02:46:55.675362Z"
    },
    "papermill": {
     "duration": 0.370834,
     "end_time": "2025-05-16T02:46:55.677587",
     "exception": false,
     "start_time": "2025-05-16T02:46:55.306753",
     "status": "completed"
    },
    "tags": []
   },
   "outputs": [
    {
     "name": "stdout",
     "output_type": "stream",
     "text": [
      "2.0.0\n"
     ]
    }
   ],
   "source": [
    "from qiskit import __version__\n",
    "print(__version__)"
   ]
  },
  {
   "cell_type": "markdown",
   "id": "b5598592",
   "metadata": {
    "papermill": {
     "duration": 0.004564,
     "end_time": "2025-05-16T02:46:55.687439",
     "exception": false,
     "start_time": "2025-05-16T02:46:55.682875",
     "status": "completed"
    },
    "tags": []
   },
   "source": [
    "# Importing the Statevector and Operator classes"
   ]
  },
  {
   "cell_type": "code",
   "execution_count": 3,
   "id": "787ebb25",
   "metadata": {
    "execution": {
     "iopub.execute_input": "2025-05-16T02:46:55.698151Z",
     "iopub.status.busy": "2025-05-16T02:46:55.697811Z",
     "iopub.status.idle": "2025-05-16T02:46:55.701795Z",
     "shell.execute_reply": "2025-05-16T02:46:55.701081Z"
    },
    "papermill": {
     "duration": 0.010612,
     "end_time": "2025-05-16T02:46:55.702791",
     "exception": false,
     "start_time": "2025-05-16T02:46:55.692179",
     "status": "completed"
    },
    "tags": []
   },
   "outputs": [],
   "source": [
    "from qiskit.quantum_info import Statevector, Operator\n",
    "from numpy import sqrt"
   ]
  },
  {
   "cell_type": "markdown",
   "id": "7543594d",
   "metadata": {
    "papermill": {
     "duration": 0.004578,
     "end_time": "2025-05-16T02:46:55.712250",
     "exception": false,
     "start_time": "2025-05-16T02:46:55.707672",
     "status": "completed"
    },
    "tags": []
   },
   "source": [
    "# Tensor Products\n",
    "* The Statevector class has a tensor method, which returns the tensor product of that Statevector with another, given as an argument. The argument is interpreted as the tensor factor on the right."
   ]
  },
  {
   "cell_type": "code",
   "execution_count": 4,
   "id": "dd0e952d",
   "metadata": {
    "execution": {
     "iopub.execute_input": "2025-05-16T02:46:55.722372Z",
     "iopub.status.busy": "2025-05-16T02:46:55.722081Z",
     "iopub.status.idle": "2025-05-16T02:46:58.051893Z",
     "shell.execute_reply": "2025-05-16T02:46:58.051084Z"
    },
    "papermill": {
     "duration": 2.336612,
     "end_time": "2025-05-16T02:46:58.053412",
     "exception": false,
     "start_time": "2025-05-16T02:46:55.716800",
     "status": "completed"
    },
    "tags": []
   },
   "outputs": [
    {
     "data": {
      "text/latex": [
       "$$ |01\\rangle$$"
      ],
      "text/plain": [
       "<IPython.core.display.Latex object>"
      ]
     },
     "metadata": {},
     "output_type": "display_data"
    }
   ],
   "source": [
    "zero = Statevector.from_label(\"0\")\n",
    "one = Statevector.from_label(\"1\")\n",
    "psi = zero.tensor(one)\n",
    "display(psi.draw(\"latex\"))"
   ]
  },
  {
   "cell_type": "markdown",
   "id": "b6b72fa3",
   "metadata": {
    "papermill": {
     "duration": 0.004625,
     "end_time": "2025-05-16T02:46:58.063305",
     "exception": false,
     "start_time": "2025-05-16T02:46:58.058680",
     "status": "completed"
    },
    "tags": []
   },
   "source": [
    "# Example of the tensor product of |+> and |-i>"
   ]
  },
  {
   "cell_type": "code",
   "execution_count": 5,
   "id": "e83b697c",
   "metadata": {
    "execution": {
     "iopub.execute_input": "2025-05-16T02:46:58.074068Z",
     "iopub.status.busy": "2025-05-16T02:46:58.073707Z",
     "iopub.status.idle": "2025-05-16T02:46:58.218895Z",
     "shell.execute_reply": "2025-05-16T02:46:58.218154Z"
    },
    "papermill": {
     "duration": 0.152151,
     "end_time": "2025-05-16T02:46:58.220135",
     "exception": false,
     "start_time": "2025-05-16T02:46:58.067984",
     "status": "completed"
    },
    "tags": []
   },
   "outputs": [
    {
     "data": {
      "text/latex": [
       "$$\\frac{1}{2} |00\\rangle- \\frac{i}{2} |01\\rangle+\\frac{1}{2} |10\\rangle- \\frac{i}{2} |11\\rangle$$"
      ],
      "text/plain": [
       "<IPython.core.display.Latex object>"
      ]
     },
     "metadata": {},
     "output_type": "display_data"
    }
   ],
   "source": [
    "plus = Statevector.from_label(\"+\")\n",
    "minus_i = Statevector.from_label(\"l\")\n",
    "phi = plus.tensor(minus_i)\n",
    "display(phi.draw(\"latex\"))"
   ]
  },
  {
   "cell_type": "markdown",
   "id": "b100be88",
   "metadata": {
    "papermill": {
     "duration": 0.004673,
     "end_time": "2025-05-16T02:46:58.230308",
     "exception": false,
     "start_time": "2025-05-16T02:46:58.225635",
     "status": "completed"
    },
    "tags": []
   },
   "source": [
    "# Alternative to use ^ operation for tensor products"
   ]
  },
  {
   "cell_type": "code",
   "execution_count": 6,
   "id": "9a9a688f",
   "metadata": {
    "execution": {
     "iopub.execute_input": "2025-05-16T02:46:58.241682Z",
     "iopub.status.busy": "2025-05-16T02:46:58.240706Z",
     "iopub.status.idle": "2025-05-16T02:46:58.249563Z",
     "shell.execute_reply": "2025-05-16T02:46:58.248949Z"
    },
    "papermill": {
     "duration": 0.015659,
     "end_time": "2025-05-16T02:46:58.250604",
     "exception": false,
     "start_time": "2025-05-16T02:46:58.234945",
     "status": "completed"
    },
    "tags": []
   },
   "outputs": [
    {
     "data": {
      "text/latex": [
       "$$\\frac{1}{2} |00\\rangle- \\frac{i}{2} |01\\rangle+\\frac{1}{2} |10\\rangle- \\frac{i}{2} |11\\rangle$$"
      ],
      "text/plain": [
       "<IPython.core.display.Latex object>"
      ]
     },
     "metadata": {},
     "output_type": "display_data"
    }
   ],
   "source": [
    "display((plus ^ minus_i).draw(\"latex\"))"
   ]
  },
  {
   "cell_type": "markdown",
   "id": "d0b7fa45",
   "metadata": {
    "papermill": {
     "duration": 0.004561,
     "end_time": "2025-05-16T02:46:58.260206",
     "exception": false,
     "start_time": "2025-05-16T02:46:58.255645",
     "status": "completed"
    },
    "tags": []
   },
   "source": [
    "# The Operator class also has a tensor method (as well as a from_label method), as we see in the following examples."
   ]
  },
  {
   "cell_type": "code",
   "execution_count": 7,
   "id": "b3d35123",
   "metadata": {
    "execution": {
     "iopub.execute_input": "2025-05-16T02:46:58.271160Z",
     "iopub.status.busy": "2025-05-16T02:46:58.270617Z",
     "iopub.status.idle": "2025-05-16T02:46:58.328646Z",
     "shell.execute_reply": "2025-05-16T02:46:58.327962Z"
    },
    "papermill": {
     "duration": 0.064782,
     "end_time": "2025-05-16T02:46:58.329701",
     "exception": false,
     "start_time": "2025-05-16T02:46:58.264919",
     "status": "completed"
    },
    "tags": []
   },
   "outputs": [
    {
     "data": {
      "text/latex": [
       "$$\n",
       "\n",
       "\\begin{bmatrix}\n",
       "\\frac{\\sqrt{2}}{2} & 0 & \\frac{\\sqrt{2}}{2} & 0  \\\\\n",
       " 0 & \\frac{\\sqrt{2}}{2} & 0 & \\frac{\\sqrt{2}}{2}  \\\\\n",
       " \\frac{\\sqrt{2}}{2} & 0 & - \\frac{\\sqrt{2}}{2} & 0  \\\\\n",
       " 0 & \\frac{\\sqrt{2}}{2} & 0 & - \\frac{\\sqrt{2}}{2}  \\\\\n",
       " \\end{bmatrix}\n",
       "$$"
      ],
      "text/plain": [
       "<IPython.core.display.Latex object>"
      ]
     },
     "metadata": {},
     "output_type": "display_data"
    },
    {
     "data": {
      "text/latex": [
       "$$\n",
       "\n",
       "\\begin{bmatrix}\n",
       "0 & \\frac{\\sqrt{2}}{2} & 0 & 0 & 0 & \\frac{\\sqrt{2}}{2} & 0 & 0  \\\\\n",
       " \\frac{\\sqrt{2}}{2} & 0 & 0 & 0 & \\frac{\\sqrt{2}}{2} & 0 & 0 & 0  \\\\\n",
       " 0 & 0 & 0 & \\frac{\\sqrt{2}}{2} & 0 & 0 & 0 & \\frac{\\sqrt{2}}{2}  \\\\\n",
       " 0 & 0 & \\frac{\\sqrt{2}}{2} & 0 & 0 & 0 & \\frac{\\sqrt{2}}{2} & 0  \\\\\n",
       " 0 & \\frac{\\sqrt{2}}{2} & 0 & 0 & 0 & - \\frac{\\sqrt{2}}{2} & 0 & 0  \\\\\n",
       " \\frac{\\sqrt{2}}{2} & 0 & 0 & 0 & - \\frac{\\sqrt{2}}{2} & 0 & 0 & 0  \\\\\n",
       " 0 & 0 & 0 & \\frac{\\sqrt{2}}{2} & 0 & 0 & 0 & - \\frac{\\sqrt{2}}{2}  \\\\\n",
       " 0 & 0 & \\frac{\\sqrt{2}}{2} & 0 & 0 & 0 & - \\frac{\\sqrt{2}}{2} & 0  \\\\\n",
       " \\end{bmatrix}\n",
       "$$"
      ],
      "text/plain": [
       "<IPython.core.display.Latex object>"
      ]
     },
     "metadata": {},
     "output_type": "display_data"
    }
   ],
   "source": [
    "H = Operator.from_label(\"H\")\n",
    "I = Operator.from_label(\"I\")\n",
    "X = Operator.from_label(\"X\")\n",
    "display(H.tensor(I).draw(\"latex\"))\n",
    "display(H.tensor(I).tensor(X).draw(\"latex\"))"
   ]
  },
  {
   "cell_type": "markdown",
   "id": "1c3d1720",
   "metadata": {
    "papermill": {
     "duration": 0.004713,
     "end_time": "2025-05-16T02:46:58.339856",
     "exception": false,
     "start_time": "2025-05-16T02:46:58.335143",
     "status": "completed"
    },
    "tags": []
   },
   "source": [
    "# Again displaying using '^' operation"
   ]
  },
  {
   "cell_type": "code",
   "execution_count": 8,
   "id": "9fe716b7",
   "metadata": {
    "execution": {
     "iopub.execute_input": "2025-05-16T02:46:58.351268Z",
     "iopub.status.busy": "2025-05-16T02:46:58.350570Z",
     "iopub.status.idle": "2025-05-16T02:46:58.390559Z",
     "shell.execute_reply": "2025-05-16T02:46:58.389836Z"
    },
    "papermill": {
     "duration": 0.047056,
     "end_time": "2025-05-16T02:46:58.391786",
     "exception": false,
     "start_time": "2025-05-16T02:46:58.344730",
     "status": "completed"
    },
    "tags": []
   },
   "outputs": [
    {
     "data": {
      "text/latex": [
       "$$\n",
       "\n",
       "\\begin{bmatrix}\n",
       "0 & \\frac{\\sqrt{2}}{2} & 0 & 0 & 0 & \\frac{\\sqrt{2}}{2} & 0 & 0  \\\\\n",
       " \\frac{\\sqrt{2}}{2} & 0 & 0 & 0 & \\frac{\\sqrt{2}}{2} & 0 & 0 & 0  \\\\\n",
       " 0 & 0 & 0 & \\frac{\\sqrt{2}}{2} & 0 & 0 & 0 & \\frac{\\sqrt{2}}{2}  \\\\\n",
       " 0 & 0 & \\frac{\\sqrt{2}}{2} & 0 & 0 & 0 & \\frac{\\sqrt{2}}{2} & 0  \\\\\n",
       " 0 & \\frac{\\sqrt{2}}{2} & 0 & 0 & 0 & - \\frac{\\sqrt{2}}{2} & 0 & 0  \\\\\n",
       " \\frac{\\sqrt{2}}{2} & 0 & 0 & 0 & - \\frac{\\sqrt{2}}{2} & 0 & 0 & 0  \\\\\n",
       " 0 & 0 & 0 & \\frac{\\sqrt{2}}{2} & 0 & 0 & 0 & - \\frac{\\sqrt{2}}{2}  \\\\\n",
       " 0 & 0 & \\frac{\\sqrt{2}}{2} & 0 & 0 & 0 & - \\frac{\\sqrt{2}}{2} & 0  \\\\\n",
       " \\end{bmatrix}\n",
       "$$"
      ],
      "text/plain": [
       "<IPython.core.display.Latex object>"
      ]
     },
     "metadata": {},
     "output_type": "display_data"
    }
   ],
   "source": [
    "display((H ^ I ^ X).draw(\"latex\"))"
   ]
  },
  {
   "cell_type": "markdown",
   "id": "bf5a07c1",
   "metadata": {
    "papermill": {
     "duration": 0.005129,
     "end_time": "2025-05-16T02:46:58.402683",
     "exception": false,
     "start_time": "2025-05-16T02:46:58.397554",
     "status": "completed"
    },
    "tags": []
   },
   "source": [
    "# Compound states can be evolved using compound operations as we would expect just like we saw for single systems in the previous lesson"
   ]
  },
  {
   "cell_type": "code",
   "execution_count": 9,
   "id": "091b1530",
   "metadata": {
    "execution": {
     "iopub.execute_input": "2025-05-16T02:46:58.414045Z",
     "iopub.status.busy": "2025-05-16T02:46:58.413807Z",
     "iopub.status.idle": "2025-05-16T02:46:58.425813Z",
     "shell.execute_reply": "2025-05-16T02:46:58.425180Z"
    },
    "papermill": {
     "duration": 0.019054,
     "end_time": "2025-05-16T02:46:58.426848",
     "exception": false,
     "start_time": "2025-05-16T02:46:58.407794",
     "status": "completed"
    },
    "tags": []
   },
   "outputs": [
    {
     "data": {
      "text/latex": [
       "$$\\frac{\\sqrt{2}}{2} |00\\rangle- \\frac{\\sqrt{2} i}{2} |01\\rangle$$"
      ],
      "text/plain": [
       "<IPython.core.display.Latex object>"
      ]
     },
     "metadata": {},
     "output_type": "display_data"
    }
   ],
   "source": [
    "display(phi.evolve(H ^ I).draw(\"latex\"))"
   ]
  },
  {
   "cell_type": "markdown",
   "id": "d7150b62",
   "metadata": {
    "papermill": {
     "duration": 0.004913,
     "end_time": "2025-05-16T02:46:58.437388",
     "exception": false,
     "start_time": "2025-05-16T02:46:58.432475",
     "status": "completed"
    },
    "tags": []
   },
   "source": [
    "# Some code that defines a CX operation and calculates CX(Phi)\n",
    "* this is a CX operation for which the left-hand qubit is the control and the right-hand qubit is the target. The result is the Bell state \n",
    "∣ϕ^+⟩"
   ]
  },
  {
   "cell_type": "code",
   "execution_count": 10,
   "id": "1aed215a",
   "metadata": {
    "execution": {
     "iopub.execute_input": "2025-05-16T02:46:58.448583Z",
     "iopub.status.busy": "2025-05-16T02:46:58.448346Z",
     "iopub.status.idle": "2025-05-16T02:46:58.458294Z",
     "shell.execute_reply": "2025-05-16T02:46:58.457636Z"
    },
    "papermill": {
     "duration": 0.017004,
     "end_time": "2025-05-16T02:46:58.459406",
     "exception": false,
     "start_time": "2025-05-16T02:46:58.442402",
     "status": "completed"
    },
    "tags": []
   },
   "outputs": [
    {
     "data": {
      "text/latex": [
       "$$\\frac{\\sqrt{2}}{2} |00\\rangle+\\frac{\\sqrt{2}}{2} |11\\rangle$$"
      ],
      "text/plain": [
       "<IPython.core.display.Latex object>"
      ]
     },
     "metadata": {},
     "output_type": "display_data"
    }
   ],
   "source": [
    "CX = Operator(\n",
    "    [[1, 0, 0, 0],\n",
    "     [0, 1, 0, 0],\n",
    "     [0, 0, 0, 1],\n",
    "     [0, 0, 1, 0]])\n",
    "psi = plus.tensor(zero)\n",
    "display(psi.evolve(CX).draw(\"latex\"))"
   ]
  },
  {
   "cell_type": "markdown",
   "id": "283ae0bc",
   "metadata": {
    "papermill": {
     "duration": 0.00502,
     "end_time": "2025-05-16T02:46:58.470062",
     "exception": false,
     "start_time": "2025-05-16T02:46:58.465042",
     "status": "completed"
    },
    "tags": []
   },
   "source": [
    "# Partial measurements\n",
    "* In the previous lesson, we used the measure method to simulate a measurement of a quantum state vector. This method returns two items: the simulated measurement result, and the new Statevector given this measurement.\n",
    "* By default, measure measures all qubits in the state vector. We can, alternatively, provide a list of integers as an argument, which causes only those qubit indices to be measured. To demonstrate this, the code below creates the state and measures qubit number 0, which is the rightmost qubit. (Qiskit numbers qubits starting from 0, from right to left. We'll return to this numbering convention in the next lesson.) "
   ]
  },
  {
   "cell_type": "code",
   "execution_count": 11,
   "id": "0a4cc0a4",
   "metadata": {
    "execution": {
     "iopub.execute_input": "2025-05-16T02:46:58.481381Z",
     "iopub.status.busy": "2025-05-16T02:46:58.481101Z",
     "iopub.status.idle": "2025-05-16T02:46:58.500806Z",
     "shell.execute_reply": "2025-05-16T02:46:58.500219Z"
    },
    "papermill": {
     "duration": 0.02693,
     "end_time": "2025-05-16T02:46:58.502150",
     "exception": false,
     "start_time": "2025-05-16T02:46:58.475220",
     "status": "completed"
    },
    "tags": []
   },
   "outputs": [
    {
     "data": {
      "text/latex": [
       "$$\\frac{\\sqrt{3}}{3} |001\\rangle+\\frac{\\sqrt{3}}{3} |010\\rangle+\\frac{\\sqrt{3}}{3} |100\\rangle$$"
      ],
      "text/plain": [
       "<IPython.core.display.Latex object>"
      ]
     },
     "metadata": {},
     "output_type": "display_data"
    },
    {
     "name": "stdout",
     "output_type": "stream",
     "text": [
      "Measured: 1\n",
      "State after measurement:\n"
     ]
    },
    {
     "data": {
      "text/latex": [
       "$$ |001\\rangle$$"
      ],
      "text/plain": [
       "<IPython.core.display.Latex object>"
      ]
     },
     "metadata": {},
     "output_type": "display_data"
    },
    {
     "name": "stdout",
     "output_type": "stream",
     "text": [
      "Measured: 01\n",
      "State after measurement:\n"
     ]
    },
    {
     "data": {
      "text/latex": [
       "$$ |001\\rangle$$"
      ],
      "text/plain": [
       "<IPython.core.display.Latex object>"
      ]
     },
     "metadata": {},
     "output_type": "display_data"
    }
   ],
   "source": [
    "w = Statevector([0, 1, 1, 0, 1, 0, 0, 0] / sqrt(3))\n",
    "display(w.draw(\"latex\"))\n",
    "\n",
    "result, state = w.measure([0])\n",
    "print(f\"Measured: {result}\\nState after measurement:\")\n",
    "display(state.draw(\"latex\"))\n",
    "\n",
    "result, state = w.measure([0,1])\n",
    "print(f\"Measured: {result}\\nState after measurement:\")\n",
    "display(state.draw(\"latex\"))"
   ]
  }
 ],
 "metadata": {
  "kaggle": {
   "accelerator": "none",
   "dataSources": [],
   "dockerImageVersionId": 31012,
   "isGpuEnabled": false,
   "isInternetEnabled": true,
   "language": "python",
   "sourceType": "notebook"
  },
  "kernelspec": {
   "display_name": "Python 3",
   "language": "python",
   "name": "python3"
  },
  "language_info": {
   "codemirror_mode": {
    "name": "ipython",
    "version": 3
   },
   "file_extension": ".py",
   "mimetype": "text/x-python",
   "name": "python",
   "nbconvert_exporter": "python",
   "pygments_lexer": "ipython3",
   "version": "3.11.11"
  },
  "papermill": {
   "default_parameters": {},
   "duration": 25.790254,
   "end_time": "2025-05-16T02:46:59.026867",
   "environment_variables": {},
   "exception": null,
   "input_path": "__notebook__.ipynb",
   "output_path": "__notebook__.ipynb",
   "parameters": {},
   "start_time": "2025-05-16T02:46:33.236613",
   "version": "2.6.0"
  }
 },
 "nbformat": 4,
 "nbformat_minor": 5
}
