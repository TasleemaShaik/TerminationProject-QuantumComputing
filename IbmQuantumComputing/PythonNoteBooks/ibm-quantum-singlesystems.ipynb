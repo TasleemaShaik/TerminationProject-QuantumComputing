{
 "cells": [
  {
   "cell_type": "markdown",
   "id": "fc5cca47",
   "metadata": {
    "papermill": {
     "duration": 0.005149,
     "end_time": "2025-05-06T21:22:22.407284",
     "exception": false,
     "start_time": "2025-05-06T21:22:22.402135",
     "status": "completed"
    },
    "tags": []
   },
   "source": [
    "# [](http://)IBM Quantum Learning, Basics of Quantum Information \n",
    "# (1) Single Systems\n",
    "* As a part of my learning, I'm trying to understand the basic framework of quantum information.\n",
    "* There are, in fact, two common mathematical descriptions of quantum information. Single Systems and Multiple Systems.\n",
    "* This sub-course Single Systems talks about the description of quantum states as vectors with complex number entries, measurements that allow classical information to be extracted from quantum states, and operations on quantum states that are described by unitary matrices.\n",
    "# Major Topics Covered\n",
    "* Classical Information\n",
    "  * Classical States and Probability Vectors\n",
    "  * Measuring Probabilistic states\n",
    "  * Classical Operations\n",
    "* Quantum Information\n",
    "  * Quantum State Vectors\n",
    "  * Measuring Quantum States\n",
    "  * Unitary Operations\n",
    "* Qiskit Implementations\n",
    "  * Vectors and Matrices in Python\n",
    "  * States, Measurements and Operations "
   ]
  },
  {
   "cell_type": "markdown",
   "id": "b484a5f7",
   "metadata": {
    "papermill": {
     "duration": 0.004187,
     "end_time": "2025-05-06T21:22:22.416580",
     "exception": false,
     "start_time": "2025-05-06T21:22:22.412393",
     "status": "completed"
    },
    "tags": []
   },
   "source": [
    "# Installing Required Qiskit Package through pip install"
   ]
  },
  {
   "cell_type": "code",
   "execution_count": 1,
   "id": "27dea55d",
   "metadata": {
    "execution": {
     "iopub.execute_input": "2025-05-06T21:22:22.426690Z",
     "iopub.status.busy": "2025-05-06T21:22:22.426300Z",
     "iopub.status.idle": "2025-05-06T21:22:49.747822Z",
     "shell.execute_reply": "2025-05-06T21:22:49.746475Z"
    },
    "papermill": {
     "duration": 27.32881,
     "end_time": "2025-05-06T21:22:49.749757",
     "exception": false,
     "start_time": "2025-05-06T21:22:22.420947",
     "status": "completed"
    },
    "tags": []
   },
   "outputs": [
    {
     "name": "stdout",
     "output_type": "stream",
     "text": [
      "Collecting qiskit\r\n",
      "  Downloading qiskit-2.0.0-cp39-abi3-manylinux_2_17_x86_64.manylinux2014_x86_64.whl.metadata (12 kB)\r\n",
      "Collecting rustworkx>=0.15.0 (from qiskit)\r\n",
      "  Downloading rustworkx-0.16.0-cp39-abi3-manylinux_2_17_x86_64.manylinux2014_x86_64.whl.metadata (10 kB)\r\n",
      "Requirement already satisfied: numpy<3,>=1.17 in /usr/local/lib/python3.11/dist-packages (from qiskit) (1.26.4)\r\n",
      "Requirement already satisfied: scipy>=1.5 in /usr/local/lib/python3.11/dist-packages (from qiskit) (1.15.2)\r\n",
      "Requirement already satisfied: sympy>=1.3 in /usr/local/lib/python3.11/dist-packages (from qiskit) (1.13.1)\r\n",
      "Requirement already satisfied: dill>=0.3 in /usr/local/lib/python3.11/dist-packages (from qiskit) (0.3.8)\r\n",
      "Requirement already satisfied: python-dateutil>=2.8.0 in /usr/local/lib/python3.11/dist-packages (from qiskit) (2.9.0.post0)\r\n",
      "Collecting stevedore>=3.0.0 (from qiskit)\r\n",
      "  Downloading stevedore-5.4.1-py3-none-any.whl.metadata (2.3 kB)\r\n",
      "Requirement already satisfied: typing-extensions in /usr/local/lib/python3.11/dist-packages (from qiskit) (4.13.1)\r\n",
      "Collecting symengine<0.14,>=0.11 (from qiskit)\r\n",
      "  Downloading symengine-0.13.0-cp311-cp311-manylinux_2_17_x86_64.manylinux2014_x86_64.whl.metadata (1.2 kB)\r\n",
      "Requirement already satisfied: mkl_fft in /usr/local/lib/python3.11/dist-packages (from numpy<3,>=1.17->qiskit) (1.3.8)\r\n",
      "Requirement already satisfied: mkl_random in /usr/local/lib/python3.11/dist-packages (from numpy<3,>=1.17->qiskit) (1.2.4)\r\n",
      "Requirement already satisfied: mkl_umath in /usr/local/lib/python3.11/dist-packages (from numpy<3,>=1.17->qiskit) (0.1.1)\r\n",
      "Requirement already satisfied: mkl in /usr/local/lib/python3.11/dist-packages (from numpy<3,>=1.17->qiskit) (2025.1.0)\r\n",
      "Requirement already satisfied: tbb4py in /usr/local/lib/python3.11/dist-packages (from numpy<3,>=1.17->qiskit) (2022.1.0)\r\n",
      "Requirement already satisfied: mkl-service in /usr/local/lib/python3.11/dist-packages (from numpy<3,>=1.17->qiskit) (2.4.1)\r\n",
      "Requirement already satisfied: six>=1.5 in /usr/local/lib/python3.11/dist-packages (from python-dateutil>=2.8.0->qiskit) (1.17.0)\r\n",
      "Collecting pbr>=2.0.0 (from stevedore>=3.0.0->qiskit)\r\n",
      "  Downloading pbr-6.1.1-py2.py3-none-any.whl.metadata (3.4 kB)\r\n",
      "Requirement already satisfied: mpmath<1.4,>=1.1.0 in /usr/local/lib/python3.11/dist-packages (from sympy>=1.3->qiskit) (1.3.0)\r\n",
      "Requirement already satisfied: setuptools in /usr/local/lib/python3.11/dist-packages (from pbr>=2.0.0->stevedore>=3.0.0->qiskit) (75.1.0)\r\n",
      "Requirement already satisfied: intel-openmp<2026,>=2024 in /usr/local/lib/python3.11/dist-packages (from mkl->numpy<3,>=1.17->qiskit) (2024.2.0)\r\n",
      "Requirement already satisfied: tbb==2022.* in /usr/local/lib/python3.11/dist-packages (from mkl->numpy<3,>=1.17->qiskit) (2022.1.0)\r\n",
      "Requirement already satisfied: tcmlib==1.* in /usr/local/lib/python3.11/dist-packages (from tbb==2022.*->mkl->numpy<3,>=1.17->qiskit) (1.2.0)\r\n",
      "Requirement already satisfied: intel-cmplr-lib-rt in /usr/local/lib/python3.11/dist-packages (from mkl_umath->numpy<3,>=1.17->qiskit) (2024.2.0)\r\n",
      "Requirement already satisfied: intel-cmplr-lib-ur==2024.2.0 in /usr/local/lib/python3.11/dist-packages (from intel-openmp<2026,>=2024->mkl->numpy<3,>=1.17->qiskit) (2024.2.0)\r\n",
      "Downloading qiskit-2.0.0-cp39-abi3-manylinux_2_17_x86_64.manylinux2014_x86_64.whl (6.5 MB)\r\n",
      "\u001b[2K   \u001b[90m━━━━━━━━━━━━━━━━━━━━━━━━━━━━━━━━━━━━━━━━\u001b[0m \u001b[32m6.5/6.5 MB\u001b[0m \u001b[31m46.5 MB/s\u001b[0m eta \u001b[36m0:00:00\u001b[0m\r\n",
      "\u001b[?25hDownloading rustworkx-0.16.0-cp39-abi3-manylinux_2_17_x86_64.manylinux2014_x86_64.whl (2.1 MB)\r\n",
      "\u001b[2K   \u001b[90m━━━━━━━━━━━━━━━━━━━━━━━━━━━━━━━━━━━━━━━━\u001b[0m \u001b[32m2.1/2.1 MB\u001b[0m \u001b[31m46.1 MB/s\u001b[0m eta \u001b[36m0:00:00\u001b[0m\r\n",
      "\u001b[?25hDownloading stevedore-5.4.1-py3-none-any.whl (49 kB)\r\n",
      "\u001b[2K   \u001b[90m━━━━━━━━━━━━━━━━━━━━━━━━━━━━━━━━━━━━━━━━\u001b[0m \u001b[32m49.5/49.5 kB\u001b[0m \u001b[31m2.5 MB/s\u001b[0m eta \u001b[36m0:00:00\u001b[0m\r\n",
      "\u001b[?25hDownloading symengine-0.13.0-cp311-cp311-manylinux_2_17_x86_64.manylinux2014_x86_64.whl (49.7 MB)\r\n",
      "\u001b[2K   \u001b[90m━━━━━━━━━━━━━━━━━━━━━━━━━━━━━━━━━━━━━━━━\u001b[0m \u001b[32m49.7/49.7 MB\u001b[0m \u001b[31m31.4 MB/s\u001b[0m eta \u001b[36m0:00:00\u001b[0m\r\n",
      "\u001b[?25hDownloading pbr-6.1.1-py2.py3-none-any.whl (108 kB)\r\n",
      "\u001b[2K   \u001b[90m━━━━━━━━━━━━━━━━━━━━━━━━━━━━━━━━━━━━━━━━\u001b[0m \u001b[32m109.0/109.0 kB\u001b[0m \u001b[31m5.9 MB/s\u001b[0m eta \u001b[36m0:00:00\u001b[0m\r\n",
      "\u001b[?25hInstalling collected packages: symengine, pbr, stevedore, rustworkx, qiskit\r\n",
      "Successfully installed pbr-6.1.1 qiskit-2.0.0 rustworkx-0.16.0 stevedore-5.4.1 symengine-0.13.0\r\n",
      "Collecting qiskit-ibm-runtime\r\n",
      "  Downloading qiskit_ibm_runtime-0.38.0-py3-none-any.whl.metadata (21 kB)\r\n",
      "Requirement already satisfied: requests>=2.19 in /usr/local/lib/python3.11/dist-packages (from qiskit-ibm-runtime) (2.32.3)\r\n",
      "Collecting requests-ntlm>=1.1.0 (from qiskit-ibm-runtime)\r\n",
      "  Downloading requests_ntlm-1.3.0-py3-none-any.whl.metadata (2.4 kB)\r\n",
      "Requirement already satisfied: numpy>=1.13 in /usr/local/lib/python3.11/dist-packages (from qiskit-ibm-runtime) (1.26.4)\r\n",
      "Requirement already satisfied: urllib3>=1.21.1 in /usr/local/lib/python3.11/dist-packages (from qiskit-ibm-runtime) (2.3.0)\r\n",
      "Requirement already satisfied: python-dateutil>=2.8.0 in /usr/local/lib/python3.11/dist-packages (from qiskit-ibm-runtime) (2.9.0.post0)\r\n",
      "Collecting ibm-platform-services>=0.22.6 (from qiskit-ibm-runtime)\r\n",
      "  Downloading ibm_platform_services-0.64.0-py3-none-any.whl.metadata (9.0 kB)\r\n",
      "Collecting pydantic<2.10,>=2.5.0 (from qiskit-ibm-runtime)\r\n",
      "  Downloading pydantic-2.9.2-py3-none-any.whl.metadata (149 kB)\r\n",
      "\u001b[2K     \u001b[90m━━━━━━━━━━━━━━━━━━━━━━━━━━━━━━━━━━━━━━━━\u001b[0m \u001b[32m149.4/149.4 kB\u001b[0m \u001b[31m3.8 MB/s\u001b[0m eta \u001b[36m0:00:00\u001b[0m\r\n",
      "\u001b[?25hRequirement already satisfied: qiskit>=1.4.1 in /usr/local/lib/python3.11/dist-packages (from qiskit-ibm-runtime) (2.0.0)\r\n",
      "Requirement already satisfied: packaging in /usr/local/lib/python3.11/dist-packages (from qiskit-ibm-runtime) (24.2)\r\n",
      "Collecting ibm_cloud_sdk_core<4.0.0,>=3.22.1 (from ibm-platform-services>=0.22.6->qiskit-ibm-runtime)\r\n",
      "  Downloading ibm_cloud_sdk_core-3.23.0-py3-none-any.whl.metadata (8.7 kB)\r\n",
      "Requirement already satisfied: mkl_fft in /usr/local/lib/python3.11/dist-packages (from numpy>=1.13->qiskit-ibm-runtime) (1.3.8)\r\n",
      "Requirement already satisfied: mkl_random in /usr/local/lib/python3.11/dist-packages (from numpy>=1.13->qiskit-ibm-runtime) (1.2.4)\r\n",
      "Requirement already satisfied: mkl_umath in /usr/local/lib/python3.11/dist-packages (from numpy>=1.13->qiskit-ibm-runtime) (0.1.1)\r\n",
      "Requirement already satisfied: mkl in /usr/local/lib/python3.11/dist-packages (from numpy>=1.13->qiskit-ibm-runtime) (2025.1.0)\r\n",
      "Requirement already satisfied: tbb4py in /usr/local/lib/python3.11/dist-packages (from numpy>=1.13->qiskit-ibm-runtime) (2022.1.0)\r\n",
      "Requirement already satisfied: mkl-service in /usr/local/lib/python3.11/dist-packages (from numpy>=1.13->qiskit-ibm-runtime) (2.4.1)\r\n",
      "Requirement already satisfied: annotated-types>=0.6.0 in /usr/local/lib/python3.11/dist-packages (from pydantic<2.10,>=2.5.0->qiskit-ibm-runtime) (0.7.0)\r\n",
      "Collecting pydantic-core==2.23.4 (from pydantic<2.10,>=2.5.0->qiskit-ibm-runtime)\r\n",
      "  Downloading pydantic_core-2.23.4-cp311-cp311-manylinux_2_17_x86_64.manylinux2014_x86_64.whl.metadata (6.6 kB)\r\n",
      "Requirement already satisfied: typing-extensions>=4.6.1 in /usr/local/lib/python3.11/dist-packages (from pydantic<2.10,>=2.5.0->qiskit-ibm-runtime) (4.13.1)\r\n",
      "Requirement already satisfied: six>=1.5 in /usr/local/lib/python3.11/dist-packages (from python-dateutil>=2.8.0->qiskit-ibm-runtime) (1.17.0)\r\n",
      "Requirement already satisfied: rustworkx>=0.15.0 in /usr/local/lib/python3.11/dist-packages (from qiskit>=1.4.1->qiskit-ibm-runtime) (0.16.0)\r\n",
      "Requirement already satisfied: scipy>=1.5 in /usr/local/lib/python3.11/dist-packages (from qiskit>=1.4.1->qiskit-ibm-runtime) (1.15.2)\r\n",
      "Requirement already satisfied: sympy>=1.3 in /usr/local/lib/python3.11/dist-packages (from qiskit>=1.4.1->qiskit-ibm-runtime) (1.13.1)\r\n",
      "Requirement already satisfied: dill>=0.3 in /usr/local/lib/python3.11/dist-packages (from qiskit>=1.4.1->qiskit-ibm-runtime) (0.3.8)\r\n",
      "Requirement already satisfied: stevedore>=3.0.0 in /usr/local/lib/python3.11/dist-packages (from qiskit>=1.4.1->qiskit-ibm-runtime) (5.4.1)\r\n",
      "Requirement already satisfied: symengine<0.14,>=0.11 in /usr/local/lib/python3.11/dist-packages (from qiskit>=1.4.1->qiskit-ibm-runtime) (0.13.0)\r\n",
      "Requirement already satisfied: charset-normalizer<4,>=2 in /usr/local/lib/python3.11/dist-packages (from requests>=2.19->qiskit-ibm-runtime) (3.4.1)\r\n",
      "Requirement already satisfied: idna<4,>=2.5 in /usr/local/lib/python3.11/dist-packages (from requests>=2.19->qiskit-ibm-runtime) (3.10)\r\n",
      "Requirement already satisfied: certifi>=2017.4.17 in /usr/local/lib/python3.11/dist-packages (from requests>=2.19->qiskit-ibm-runtime) (2025.1.31)\r\n",
      "Requirement already satisfied: cryptography>=1.3 in /usr/local/lib/python3.11/dist-packages (from requests-ntlm>=1.1.0->qiskit-ibm-runtime) (44.0.2)\r\n",
      "Collecting pyspnego>=0.4.0 (from requests-ntlm>=1.1.0->qiskit-ibm-runtime)\r\n",
      "  Downloading pyspnego-0.11.2-py3-none-any.whl.metadata (5.4 kB)\r\n",
      "Requirement already satisfied: cffi>=1.12 in /usr/local/lib/python3.11/dist-packages (from cryptography>=1.3->requests-ntlm>=1.1.0->qiskit-ibm-runtime) (1.17.1)\r\n",
      "Requirement already satisfied: PyJWT<3.0.0,>=2.8.0 in /usr/local/lib/python3.11/dist-packages (from ibm_cloud_sdk_core<4.0.0,>=3.22.1->ibm-platform-services>=0.22.6->qiskit-ibm-runtime) (2.10.1)\r\n",
      "Requirement already satisfied: pbr>=2.0.0 in /usr/local/lib/python3.11/dist-packages (from stevedore>=3.0.0->qiskit>=1.4.1->qiskit-ibm-runtime) (6.1.1)\r\n",
      "Requirement already satisfied: mpmath<1.4,>=1.1.0 in /usr/local/lib/python3.11/dist-packages (from sympy>=1.3->qiskit>=1.4.1->qiskit-ibm-runtime) (1.3.0)\r\n",
      "Requirement already satisfied: intel-openmp<2026,>=2024 in /usr/local/lib/python3.11/dist-packages (from mkl->numpy>=1.13->qiskit-ibm-runtime) (2024.2.0)\r\n",
      "Requirement already satisfied: tbb==2022.* in /usr/local/lib/python3.11/dist-packages (from mkl->numpy>=1.13->qiskit-ibm-runtime) (2022.1.0)\r\n",
      "Requirement already satisfied: tcmlib==1.* in /usr/local/lib/python3.11/dist-packages (from tbb==2022.*->mkl->numpy>=1.13->qiskit-ibm-runtime) (1.2.0)\r\n",
      "Requirement already satisfied: intel-cmplr-lib-rt in /usr/local/lib/python3.11/dist-packages (from mkl_umath->numpy>=1.13->qiskit-ibm-runtime) (2024.2.0)\r\n",
      "Requirement already satisfied: pycparser in /usr/local/lib/python3.11/dist-packages (from cffi>=1.12->cryptography>=1.3->requests-ntlm>=1.1.0->qiskit-ibm-runtime) (2.22)\r\n",
      "Requirement already satisfied: intel-cmplr-lib-ur==2024.2.0 in /usr/local/lib/python3.11/dist-packages (from intel-openmp<2026,>=2024->mkl->numpy>=1.13->qiskit-ibm-runtime) (2024.2.0)\r\n",
      "Requirement already satisfied: setuptools in /usr/local/lib/python3.11/dist-packages (from pbr>=2.0.0->stevedore>=3.0.0->qiskit>=1.4.1->qiskit-ibm-runtime) (75.1.0)\r\n",
      "Downloading qiskit_ibm_runtime-0.38.0-py3-none-any.whl (3.2 MB)\r\n",
      "\u001b[2K   \u001b[90m━━━━━━━━━━━━━━━━━━━━━━━━━━━━━━━━━━━━━━━━\u001b[0m \u001b[32m3.2/3.2 MB\u001b[0m \u001b[31m42.3 MB/s\u001b[0m eta \u001b[36m0:00:00\u001b[0m\r\n",
      "\u001b[?25hDownloading ibm_platform_services-0.64.0-py3-none-any.whl (353 kB)\r\n",
      "\u001b[2K   \u001b[90m━━━━━━━━━━━━━━━━━━━━━━━━━━━━━━━━━━━━━━━━\u001b[0m \u001b[32m353.2/353.2 kB\u001b[0m \u001b[31m17.4 MB/s\u001b[0m eta \u001b[36m0:00:00\u001b[0m\r\n",
      "\u001b[?25hDownloading pydantic-2.9.2-py3-none-any.whl (434 kB)\r\n",
      "\u001b[2K   \u001b[90m━━━━━━━━━━━━━━━━━━━━━━━━━━━━━━━━━━━━━━━━\u001b[0m \u001b[32m434.9/434.9 kB\u001b[0m \u001b[31m8.8 MB/s\u001b[0m eta \u001b[36m0:00:00\u001b[0m\r\n",
      "\u001b[?25hDownloading pydantic_core-2.23.4-cp311-cp311-manylinux_2_17_x86_64.manylinux2014_x86_64.whl (2.1 MB)\r\n",
      "\u001b[2K   \u001b[90m━━━━━━━━━━━━━━━━━━━━━━━━━━━━━━━━━━━━━━━━\u001b[0m \u001b[32m2.1/2.1 MB\u001b[0m \u001b[31m39.6 MB/s\u001b[0m eta \u001b[36m0:00:00\u001b[0m\r\n",
      "\u001b[?25hDownloading requests_ntlm-1.3.0-py3-none-any.whl (6.6 kB)\r\n",
      "Downloading ibm_cloud_sdk_core-3.23.0-py3-none-any.whl (69 kB)\r\n",
      "\u001b[2K   \u001b[90m━━━━━━━━━━━━━━━━━━━━━━━━━━━━━━━━━━━━━━━━\u001b[0m \u001b[32m69.5/69.5 kB\u001b[0m \u001b[31m3.1 MB/s\u001b[0m eta \u001b[36m0:00:00\u001b[0m\r\n",
      "\u001b[?25hDownloading pyspnego-0.11.2-py3-none-any.whl (130 kB)\r\n",
      "\u001b[2K   \u001b[90m━━━━━━━━━━━━━━━━━━━━━━━━━━━━━━━━━━━━━━━━\u001b[0m \u001b[32m130.5/130.5 kB\u001b[0m \u001b[31m5.9 MB/s\u001b[0m eta \u001b[36m0:00:00\u001b[0m\r\n",
      "\u001b[?25hInstalling collected packages: pydantic-core, pydantic, ibm_cloud_sdk_core, pyspnego, ibm-platform-services, requests-ntlm, qiskit-ibm-runtime\r\n",
      "  Attempting uninstall: pydantic-core\r\n",
      "    Found existing installation: pydantic_core 2.33.1\r\n",
      "    Uninstalling pydantic_core-2.33.1:\r\n",
      "      Successfully uninstalled pydantic_core-2.33.1\r\n",
      "  Attempting uninstall: pydantic\r\n",
      "    Found existing installation: pydantic 2.11.3\r\n",
      "    Uninstalling pydantic-2.11.3:\r\n",
      "      Successfully uninstalled pydantic-2.11.3\r\n",
      "\u001b[31mERROR: pip's dependency resolver does not currently take into account all the packages that are installed. This behaviour is the source of the following dependency conflicts.\r\n",
      "sigstore 3.6.1 requires rich~=13.0, but you have rich 14.0.0 which is incompatible.\u001b[0m\u001b[31m\r\n",
      "\u001b[0mSuccessfully installed ibm-platform-services-0.64.0 ibm_cloud_sdk_core-3.23.0 pydantic-2.9.2 pydantic-core-2.23.4 pyspnego-0.11.2 qiskit-ibm-runtime-0.38.0 requests-ntlm-1.3.0\r\n",
      "Requirement already satisfied: qiskit[visualization] in /usr/local/lib/python3.11/dist-packages (2.0.0)\r\n",
      "Requirement already satisfied: rustworkx>=0.15.0 in /usr/local/lib/python3.11/dist-packages (from qiskit[visualization]) (0.16.0)\r\n",
      "Requirement already satisfied: numpy<3,>=1.17 in /usr/local/lib/python3.11/dist-packages (from qiskit[visualization]) (1.26.4)\r\n",
      "Requirement already satisfied: scipy>=1.5 in /usr/local/lib/python3.11/dist-packages (from qiskit[visualization]) (1.15.2)\r\n",
      "Requirement already satisfied: sympy>=1.3 in /usr/local/lib/python3.11/dist-packages (from qiskit[visualization]) (1.13.1)\r\n",
      "Requirement already satisfied: dill>=0.3 in /usr/local/lib/python3.11/dist-packages (from qiskit[visualization]) (0.3.8)\r\n",
      "Requirement already satisfied: python-dateutil>=2.8.0 in /usr/local/lib/python3.11/dist-packages (from qiskit[visualization]) (2.9.0.post0)\r\n",
      "Requirement already satisfied: stevedore>=3.0.0 in /usr/local/lib/python3.11/dist-packages (from qiskit[visualization]) (5.4.1)\r\n",
      "Requirement already satisfied: typing-extensions in /usr/local/lib/python3.11/dist-packages (from qiskit[visualization]) (4.13.1)\r\n",
      "Requirement already satisfied: symengine<0.14,>=0.11 in /usr/local/lib/python3.11/dist-packages (from qiskit[visualization]) (0.13.0)\r\n",
      "Requirement already satisfied: matplotlib>=3.3 in /usr/local/lib/python3.11/dist-packages (from qiskit[visualization]) (3.7.5)\r\n",
      "Requirement already satisfied: pydot in /usr/local/lib/python3.11/dist-packages (from qiskit[visualization]) (3.0.4)\r\n",
      "Requirement already satisfied: Pillow>=4.2.1 in /usr/local/lib/python3.11/dist-packages (from qiskit[visualization]) (11.1.0)\r\n",
      "Collecting pylatexenc>=1.4 (from qiskit[visualization])\r\n",
      "  Downloading pylatexenc-2.10.tar.gz (162 kB)\r\n",
      "\u001b[2K     \u001b[90m━━━━━━━━━━━━━━━━━━━━━━━━━━━━━━━━━━━━━━━━\u001b[0m \u001b[32m162.6/162.6 kB\u001b[0m \u001b[31m3.6 MB/s\u001b[0m eta \u001b[36m0:00:00\u001b[0m\r\n",
      "\u001b[?25h  Preparing metadata (setup.py) ... \u001b[?25l\u001b[?25hdone\r\n",
      "Requirement already satisfied: seaborn>=0.9.0 in /usr/local/lib/python3.11/dist-packages (from qiskit[visualization]) (0.12.2)\r\n",
      "Requirement already satisfied: contourpy>=1.0.1 in /usr/local/lib/python3.11/dist-packages (from matplotlib>=3.3->qiskit[visualization]) (1.3.1)\r\n",
      "Requirement already satisfied: cycler>=0.10 in /usr/local/lib/python3.11/dist-packages (from matplotlib>=3.3->qiskit[visualization]) (0.12.1)\r\n",
      "Requirement already satisfied: fonttools>=4.22.0 in /usr/local/lib/python3.11/dist-packages (from matplotlib>=3.3->qiskit[visualization]) (4.56.0)\r\n",
      "Requirement already satisfied: kiwisolver>=1.0.1 in /usr/local/lib/python3.11/dist-packages (from matplotlib>=3.3->qiskit[visualization]) (1.4.8)\r\n",
      "Requirement already satisfied: packaging>=20.0 in /usr/local/lib/python3.11/dist-packages (from matplotlib>=3.3->qiskit[visualization]) (24.2)\r\n",
      "Requirement already satisfied: pyparsing>=2.3.1 in /usr/local/lib/python3.11/dist-packages (from matplotlib>=3.3->qiskit[visualization]) (3.2.1)\r\n",
      "Requirement already satisfied: mkl_fft in /usr/local/lib/python3.11/dist-packages (from numpy<3,>=1.17->qiskit[visualization]) (1.3.8)\r\n",
      "Requirement already satisfied: mkl_random in /usr/local/lib/python3.11/dist-packages (from numpy<3,>=1.17->qiskit[visualization]) (1.2.4)\r\n",
      "Requirement already satisfied: mkl_umath in /usr/local/lib/python3.11/dist-packages (from numpy<3,>=1.17->qiskit[visualization]) (0.1.1)\r\n",
      "Requirement already satisfied: mkl in /usr/local/lib/python3.11/dist-packages (from numpy<3,>=1.17->qiskit[visualization]) (2025.1.0)\r\n",
      "Requirement already satisfied: tbb4py in /usr/local/lib/python3.11/dist-packages (from numpy<3,>=1.17->qiskit[visualization]) (2022.1.0)\r\n",
      "Requirement already satisfied: mkl-service in /usr/local/lib/python3.11/dist-packages (from numpy<3,>=1.17->qiskit[visualization]) (2.4.1)\r\n",
      "Requirement already satisfied: six>=1.5 in /usr/local/lib/python3.11/dist-packages (from python-dateutil>=2.8.0->qiskit[visualization]) (1.17.0)\r\n",
      "Requirement already satisfied: pandas>=0.25 in /usr/local/lib/python3.11/dist-packages (from seaborn>=0.9.0->qiskit[visualization]) (2.2.3)\r\n",
      "Requirement already satisfied: pbr>=2.0.0 in /usr/local/lib/python3.11/dist-packages (from stevedore>=3.0.0->qiskit[visualization]) (6.1.1)\r\n",
      "Requirement already satisfied: mpmath<1.4,>=1.1.0 in /usr/local/lib/python3.11/dist-packages (from sympy>=1.3->qiskit[visualization]) (1.3.0)\r\n",
      "Requirement already satisfied: pytz>=2020.1 in /usr/local/lib/python3.11/dist-packages (from pandas>=0.25->seaborn>=0.9.0->qiskit[visualization]) (2025.2)\r\n",
      "Requirement already satisfied: tzdata>=2022.7 in /usr/local/lib/python3.11/dist-packages (from pandas>=0.25->seaborn>=0.9.0->qiskit[visualization]) (2025.2)\r\n",
      "Requirement already satisfied: setuptools in /usr/local/lib/python3.11/dist-packages (from pbr>=2.0.0->stevedore>=3.0.0->qiskit[visualization]) (75.1.0)\r\n",
      "Requirement already satisfied: intel-openmp<2026,>=2024 in /usr/local/lib/python3.11/dist-packages (from mkl->numpy<3,>=1.17->qiskit[visualization]) (2024.2.0)\r\n",
      "Requirement already satisfied: tbb==2022.* in /usr/local/lib/python3.11/dist-packages (from mkl->numpy<3,>=1.17->qiskit[visualization]) (2022.1.0)\r\n",
      "Requirement already satisfied: tcmlib==1.* in /usr/local/lib/python3.11/dist-packages (from tbb==2022.*->mkl->numpy<3,>=1.17->qiskit[visualization]) (1.2.0)\r\n",
      "Requirement already satisfied: intel-cmplr-lib-rt in /usr/local/lib/python3.11/dist-packages (from mkl_umath->numpy<3,>=1.17->qiskit[visualization]) (2024.2.0)\r\n",
      "Requirement already satisfied: intel-cmplr-lib-ur==2024.2.0 in /usr/local/lib/python3.11/dist-packages (from intel-openmp<2026,>=2024->mkl->numpy<3,>=1.17->qiskit[visualization]) (2024.2.0)\r\n",
      "Building wheels for collected packages: pylatexenc\r\n",
      "  Building wheel for pylatexenc (setup.py) ... \u001b[?25l\u001b[?25hdone\r\n",
      "  Created wheel for pylatexenc: filename=pylatexenc-2.10-py3-none-any.whl size=136816 sha256=f8ff6a16dca9d20e8f9c06e91f680556ff4cab21c5e26a460e04a5a5157d7c99\r\n",
      "  Stored in directory: /root/.cache/pip/wheels/b1/7a/33/9fdd892f784ed4afda62b685ae3703adf4c91aa0f524c28f03\r\n",
      "Successfully built pylatexenc\r\n",
      "Installing collected packages: pylatexenc\r\n",
      "Successfully installed pylatexenc-2.10\r\n"
     ]
    }
   ],
   "source": [
    "!pip install qiskit\n",
    "!pip install qiskit-ibm-runtime\n",
    "!pip install qiskit[visualization]"
   ]
  },
  {
   "cell_type": "markdown",
   "id": "11ee86bf",
   "metadata": {
    "papermill": {
     "duration": 0.008342,
     "end_time": "2025-05-06T21:22:49.767647",
     "exception": false,
     "start_time": "2025-05-06T21:22:49.759305",
     "status": "completed"
    },
    "tags": []
   },
   "source": [
    "# Checking Qiskit Version"
   ]
  },
  {
   "cell_type": "code",
   "execution_count": 2,
   "id": "8ee395fd",
   "metadata": {
    "execution": {
     "iopub.execute_input": "2025-05-06T21:22:49.786782Z",
     "iopub.status.busy": "2025-05-06T21:22:49.786386Z",
     "iopub.status.idle": "2025-05-06T21:22:50.267830Z",
     "shell.execute_reply": "2025-05-06T21:22:50.266551Z"
    },
    "papermill": {
     "duration": 0.493311,
     "end_time": "2025-05-06T21:22:50.269675",
     "exception": false,
     "start_time": "2025-05-06T21:22:49.776364",
     "status": "completed"
    },
    "tags": []
   },
   "outputs": [
    {
     "name": "stdout",
     "output_type": "stream",
     "text": [
      "2.0.0\n"
     ]
    }
   ],
   "source": [
    "from qiskit import __version__\n",
    "print(__version__)"
   ]
  },
  {
   "cell_type": "markdown",
   "id": "ec5f52b9",
   "metadata": {
    "papermill": {
     "duration": 0.008517,
     "end_time": "2025-05-06T21:22:50.287000",
     "exception": false,
     "start_time": "2025-05-06T21:22:50.278483",
     "status": "completed"
    },
    "tags": []
   },
   "source": [
    "# Vectors and matrices in Python"
   ]
  },
  {
   "cell_type": "code",
   "execution_count": 3,
   "id": "30c15316",
   "metadata": {
    "execution": {
     "iopub.execute_input": "2025-05-06T21:22:50.307238Z",
     "iopub.status.busy": "2025-05-06T21:22:50.306820Z",
     "iopub.status.idle": "2025-05-06T21:22:50.313566Z",
     "shell.execute_reply": "2025-05-06T21:22:50.312361Z"
    },
    "papermill": {
     "duration": 0.018634,
     "end_time": "2025-05-06T21:22:50.315434",
     "exception": false,
     "start_time": "2025-05-06T21:22:50.296800",
     "status": "completed"
    },
    "tags": []
   },
   "outputs": [
    {
     "name": "stdout",
     "output_type": "stream",
     "text": [
      "[[0.5]\n",
      " [0.5]]\n"
     ]
    }
   ],
   "source": [
    "import numpy as np\n",
    "\n",
    "ket0 = np.array([[1],[0]])\n",
    "ket1 = np.array([[0],[1]])\n",
    "\n",
    "print(ket0 / 2 + ket1 / 2)"
   ]
  },
  {
   "cell_type": "code",
   "execution_count": 4,
   "id": "5e142b0a",
   "metadata": {
    "execution": {
     "iopub.execute_input": "2025-05-06T21:22:50.334665Z",
     "iopub.status.busy": "2025-05-06T21:22:50.334302Z",
     "iopub.status.idle": "2025-05-06T21:22:50.340170Z",
     "shell.execute_reply": "2025-05-06T21:22:50.339164Z"
    },
    "papermill": {
     "duration": 0.017348,
     "end_time": "2025-05-06T21:22:50.341658",
     "exception": false,
     "start_time": "2025-05-06T21:22:50.324310",
     "status": "completed"
    },
    "tags": []
   },
   "outputs": [
    {
     "name": "stdout",
     "output_type": "stream",
     "text": [
      "[[1.  0.5]\n",
      " [0.  0.5]]\n"
     ]
    }
   ],
   "source": [
    "M1 = np.array([[1, 1], [0, 0]])\n",
    "M2 = np.array([[1, 0], [0, 1]])\n",
    "M = M1 / 2 + M2 / 2\n",
    "print(M)"
   ]
  },
  {
   "cell_type": "code",
   "execution_count": 5,
   "id": "dea7238a",
   "metadata": {
    "execution": {
     "iopub.execute_input": "2025-05-06T21:22:50.361159Z",
     "iopub.status.busy": "2025-05-06T21:22:50.360669Z",
     "iopub.status.idle": "2025-05-06T21:22:50.370390Z",
     "shell.execute_reply": "2025-05-06T21:22:50.369147Z"
    },
    "papermill": {
     "duration": 0.021273,
     "end_time": "2025-05-06T21:22:50.371759",
     "exception": false,
     "start_time": "2025-05-06T21:22:50.350486",
     "status": "completed"
    },
    "tags": []
   },
   "outputs": [
    {
     "name": "stdout",
     "output_type": "stream",
     "text": [
      "[[1]\n",
      " [0]]\n",
      "[[1 1]\n",
      " [0 0]]\n",
      "[[1.   0.75]\n",
      " [0.   0.25]]\n"
     ]
    }
   ],
   "source": [
    "print(np.matmul(M1, ket1))\n",
    "print(np.matmul(M1, M2))\n",
    "print(np.matmul(M, M))"
   ]
  },
  {
   "cell_type": "code",
   "execution_count": 6,
   "id": "12f26e4b",
   "metadata": {
    "execution": {
     "iopub.execute_input": "2025-05-06T21:22:50.391497Z",
     "iopub.status.busy": "2025-05-06T21:22:50.391162Z",
     "iopub.status.idle": "2025-05-06T21:22:53.664970Z",
     "shell.execute_reply": "2025-05-06T21:22:53.663899Z"
    },
    "papermill": {
     "duration": 3.285695,
     "end_time": "2025-05-06T21:22:53.666933",
     "exception": false,
     "start_time": "2025-05-06T21:22:50.381238",
     "status": "completed"
    },
    "tags": []
   },
   "outputs": [
    {
     "data": {
      "text/latex": [
       "$$\n",
       "\n",
       "\\begin{bmatrix}\n",
       "1  \\\\\n",
       " 0  \\\\\n",
       " \\end{bmatrix}\n",
       "$$"
      ],
      "text/plain": [
       "<IPython.core.display.Latex object>"
      ]
     },
     "metadata": {},
     "output_type": "display_data"
    },
    {
     "data": {
      "text/latex": [
       "$$\n",
       "\n",
       "\\begin{bmatrix}\n",
       "1 & 1  \\\\\n",
       " 0 & 0  \\\\\n",
       " \\end{bmatrix}\n",
       "$$"
      ],
      "text/plain": [
       "<IPython.core.display.Latex object>"
      ]
     },
     "metadata": {},
     "output_type": "display_data"
    },
    {
     "data": {
      "text/latex": [
       "$$\n",
       "\n",
       "\\begin{bmatrix}\n",
       "1 & \\frac{3}{4}  \\\\\n",
       " 0 & \\frac{1}{4}  \\\\\n",
       " \\end{bmatrix}\n",
       "$$"
      ],
      "text/plain": [
       "<IPython.core.display.Latex object>"
      ]
     },
     "metadata": {},
     "output_type": "display_data"
    }
   ],
   "source": [
    "from qiskit.visualization import array_to_latex\n",
    "\n",
    "display(array_to_latex(np.matmul(M1, ket1)))\n",
    "display(array_to_latex(np.matmul(M1, M2)))\n",
    "display(array_to_latex(np.matmul(M, M)))"
   ]
  },
  {
   "cell_type": "markdown",
   "id": "7df4bb42",
   "metadata": {
    "papermill": {
     "duration": 0.008656,
     "end_time": "2025-05-06T21:22:53.685335",
     "exception": false,
     "start_time": "2025-05-06T21:22:53.676679",
     "status": "completed"
    },
    "tags": []
   },
   "source": [
    "# Defining and displaying state vectors"
   ]
  },
  {
   "cell_type": "code",
   "execution_count": 7,
   "id": "9e67c21e",
   "metadata": {
    "execution": {
     "iopub.execute_input": "2025-05-06T21:22:53.707178Z",
     "iopub.status.busy": "2025-05-06T21:22:53.706731Z",
     "iopub.status.idle": "2025-05-06T21:22:53.712999Z",
     "shell.execute_reply": "2025-05-06T21:22:53.711558Z"
    },
    "papermill": {
     "duration": 0.020329,
     "end_time": "2025-05-06T21:22:53.715264",
     "exception": false,
     "start_time": "2025-05-06T21:22:53.694935",
     "status": "completed"
    },
    "tags": []
   },
   "outputs": [],
   "source": [
    "from qiskit.quantum_info import Statevector\n",
    "from numpy import sqrt\n",
    "\n",
    "u = Statevector([1 / sqrt(2), 1 / sqrt(2)])\n",
    "v = Statevector([(1 + 2.0j) / 3, -2 / 3])\n",
    "w = Statevector([1 / 3, 2 / 3])"
   ]
  },
  {
   "cell_type": "code",
   "execution_count": 8,
   "id": "a9f16193",
   "metadata": {
    "execution": {
     "iopub.execute_input": "2025-05-06T21:22:53.735874Z",
     "iopub.status.busy": "2025-05-06T21:22:53.734426Z",
     "iopub.status.idle": "2025-05-06T21:22:53.759592Z",
     "shell.execute_reply": "2025-05-06T21:22:53.758506Z"
    },
    "papermill": {
     "duration": 0.0366,
     "end_time": "2025-05-06T21:22:53.761112",
     "exception": false,
     "start_time": "2025-05-06T21:22:53.724512",
     "status": "completed"
    },
    "tags": []
   },
   "outputs": [
    {
     "data": {
      "text/plain": [
       "[0.70710678+0.j,0.70710678+0.j]"
      ]
     },
     "metadata": {},
     "output_type": "display_data"
    },
    {
     "data": {
      "text/latex": [
       "$$\\frac{\\sqrt{2}}{2} |0\\rangle+\\frac{\\sqrt{2}}{2} |1\\rangle$$"
      ],
      "text/plain": [
       "<IPython.core.display.Latex object>"
      ]
     },
     "metadata": {},
     "output_type": "display_data"
    },
    {
     "name": "stdout",
     "output_type": "stream",
     "text": [
      "\\frac{\\sqrt{2}}{2} |0\\rangle+\\frac{\\sqrt{2}}{2} |1\\rangle\n"
     ]
    }
   ],
   "source": [
    "display(u.draw(\"text\"))\n",
    "display(u.draw(\"latex\"))\n",
    "print(u.draw(\"latex_source\"))"
   ]
  },
  {
   "cell_type": "code",
   "execution_count": 9,
   "id": "731fc56f",
   "metadata": {
    "execution": {
     "iopub.execute_input": "2025-05-06T21:22:53.782284Z",
     "iopub.status.busy": "2025-05-06T21:22:53.781931Z",
     "iopub.status.idle": "2025-05-06T21:22:53.790996Z",
     "shell.execute_reply": "2025-05-06T21:22:53.789774Z"
    },
    "papermill": {
     "duration": 0.021285,
     "end_time": "2025-05-06T21:22:53.792508",
     "exception": false,
     "start_time": "2025-05-06T21:22:53.771223",
     "status": "completed"
    },
    "tags": []
   },
   "outputs": [
    {
     "data": {
      "text/plain": [
       "True"
      ]
     },
     "metadata": {},
     "output_type": "display_data"
    },
    {
     "data": {
      "text/plain": [
       "False"
      ]
     },
     "metadata": {},
     "output_type": "display_data"
    }
   ],
   "source": [
    "display(u.is_valid())\n",
    "display(w.is_valid())"
   ]
  },
  {
   "cell_type": "markdown",
   "id": "209ebab1",
   "metadata": {
    "papermill": {
     "duration": 0.010191,
     "end_time": "2025-05-06T21:22:53.813174",
     "exception": false,
     "start_time": "2025-05-06T21:22:53.802983",
     "status": "completed"
    },
    "tags": []
   },
   "source": [
    "# Simulating measurements using Statevector"
   ]
  },
  {
   "cell_type": "code",
   "execution_count": 10,
   "id": "e90cec95",
   "metadata": {
    "execution": {
     "iopub.execute_input": "2025-05-06T21:22:53.834612Z",
     "iopub.status.busy": "2025-05-06T21:22:53.834278Z",
     "iopub.status.idle": "2025-05-06T21:22:54.030764Z",
     "shell.execute_reply": "2025-05-06T21:22:54.029575Z"
    },
    "papermill": {
     "duration": 0.209223,
     "end_time": "2025-05-06T21:22:54.032439",
     "exception": false,
     "start_time": "2025-05-06T21:22:53.823216",
     "status": "completed"
    },
    "tags": []
   },
   "outputs": [
    {
     "data": {
      "text/latex": [
       "$$(\\frac{1}{3} + \\frac{2 i}{3}) |0\\rangle- \\frac{2}{3} |1\\rangle$$"
      ],
      "text/plain": [
       "<IPython.core.display.Latex object>"
      ]
     },
     "metadata": {},
     "output_type": "display_data"
    }
   ],
   "source": [
    "display(v.draw(\"latex\"))"
   ]
  },
  {
   "cell_type": "code",
   "execution_count": 11,
   "id": "a50b212a",
   "metadata": {
    "execution": {
     "iopub.execute_input": "2025-05-06T21:22:54.053979Z",
     "iopub.status.busy": "2025-05-06T21:22:54.053620Z",
     "iopub.status.idle": "2025-05-06T21:22:54.076773Z",
     "shell.execute_reply": "2025-05-06T21:22:54.075768Z"
    },
    "papermill": {
     "duration": 0.035995,
     "end_time": "2025-05-06T21:22:54.078329",
     "exception": false,
     "start_time": "2025-05-06T21:22:54.042334",
     "status": "completed"
    },
    "tags": []
   },
   "outputs": [
    {
     "name": "stdout",
     "output_type": "stream",
     "text": [
      "Measured: 0\n",
      "Post-measurement state:\n"
     ]
    },
    {
     "data": {
      "text/latex": [
       "$$(\\frac{\\sqrt{5}}{5} + \\frac{2 \\sqrt{5} i}{5}) |0\\rangle$$"
      ],
      "text/plain": [
       "<IPython.core.display.Latex object>"
      ]
     },
     "metadata": {},
     "output_type": "display_data"
    }
   ],
   "source": [
    "outcome, state = v.measure()\n",
    "print(f\"Measured: {outcome}\\nPost-measurement state:\")\n",
    "display(state.draw(\"latex\"))"
   ]
  },
  {
   "cell_type": "code",
   "execution_count": 12,
   "id": "5b79295b",
   "metadata": {
    "execution": {
     "iopub.execute_input": "2025-05-06T21:22:54.101045Z",
     "iopub.status.busy": "2025-05-06T21:22:54.100641Z",
     "iopub.status.idle": "2025-05-06T21:22:54.286319Z",
     "shell.execute_reply": "2025-05-06T21:22:54.285364Z"
    },
    "papermill": {
     "duration": 0.19901,
     "end_time": "2025-05-06T21:22:54.287929",
     "exception": false,
     "start_time": "2025-05-06T21:22:54.088919",
     "status": "completed"
    },
    "tags": []
   },
   "outputs": [
    {
     "data": {
      "image/png": "[encoded data removed]",
      "text/plain": [
       "<Figure size 640x480 with 1 Axes>"
      ]
     },
     "execution_count": 12,
     "metadata": {},
     "output_type": "execute_result"
    }
   ],
   "source": [
    "from qiskit.visualization import plot_histogram\n",
    "\n",
    "statistics = v.sample_counts(1000)\n",
    "plot_histogram(statistics)"
   ]
  },
  {
   "cell_type": "markdown",
   "id": "644aea8d",
   "metadata": {
    "papermill": {
     "duration": 0.009656,
     "end_time": "2025-05-06T21:22:54.307848",
     "exception": false,
     "start_time": "2025-05-06T21:22:54.298192",
     "status": "completed"
    },
    "tags": []
   },
   "source": [
    "# Performing operations with Operator and Statevector"
   ]
  },
  {
   "cell_type": "code",
   "execution_count": 13,
   "id": "a8e49df8",
   "metadata": {
    "execution": {
     "iopub.execute_input": "2025-05-06T21:22:54.330590Z",
     "iopub.status.busy": "2025-05-06T21:22:54.330290Z",
     "iopub.status.idle": "2025-05-06T21:22:54.348438Z",
     "shell.execute_reply": "2025-05-06T21:22:54.347381Z"
    },
    "papermill": {
     "duration": 0.032063,
     "end_time": "2025-05-06T21:22:54.350356",
     "exception": false,
     "start_time": "2025-05-06T21:22:54.318293",
     "status": "completed"
    },
    "tags": []
   },
   "outputs": [
    {
     "data": {
      "text/latex": [
       "$$\n",
       "\n",
       "\\begin{bmatrix}\n",
       "1 & 0  \\\\\n",
       " 0 & \\frac{\\sqrt{2}}{2} + \\frac{\\sqrt{2} i}{2}  \\\\\n",
       " \\end{bmatrix}\n",
       "$$"
      ],
      "text/plain": [
       "<IPython.core.display.Latex object>"
      ]
     },
     "metadata": {},
     "output_type": "display_data"
    }
   ],
   "source": [
    "from qiskit.quantum_info import Operator\n",
    "\n",
    "Y = Operator([[0, -1.0j], [1.0j, 0]])\n",
    "H = Operator([[1 / sqrt(2), 1 / sqrt(2)], [1 / sqrt(2), -1 / sqrt(2)]])\n",
    "S = Operator([[1, 0], [0, 1.0j]])\n",
    "T = Operator([[1, 0], [0, (1 + 1.0j) / sqrt(2)]])\n",
    "\n",
    "display(T.draw(\"latex\"))"
   ]
  },
  {
   "cell_type": "code",
   "execution_count": 14,
   "id": "a68d40e0",
   "metadata": {
    "execution": {
     "iopub.execute_input": "2025-05-06T21:22:54.371806Z",
     "iopub.status.busy": "2025-05-06T21:22:54.371463Z",
     "iopub.status.idle": "2025-05-06T21:22:54.423363Z",
     "shell.execute_reply": "2025-05-06T21:22:54.422398Z"
    },
    "papermill": {
     "duration": 0.064475,
     "end_time": "2025-05-06T21:22:54.425083",
     "exception": false,
     "start_time": "2025-05-06T21:22:54.360608",
     "status": "completed"
    },
    "tags": []
   },
   "outputs": [
    {
     "data": {
      "text/latex": [
       "$$(0.1464466094 - 0.3535533906 i) |0\\rangle+(-0.3535533906 + 0.8535533906 i) |1\\rangle$$"
      ],
      "text/plain": [
       "<IPython.core.display.Latex object>"
      ]
     },
     "metadata": {},
     "output_type": "display_data"
    }
   ],
   "source": [
    "v = Statevector([1, 0])\n",
    "\n",
    "v = v.evolve(H)\n",
    "v = v.evolve(T)\n",
    "v = v.evolve(H)\n",
    "v = v.evolve(S)\n",
    "v = v.evolve(Y)\n",
    "\n",
    "display(v.draw(\"latex\"))"
   ]
  },
  {
   "cell_type": "markdown",
   "id": "0c44a44d",
   "metadata": {
    "papermill": {
     "duration": 0.010915,
     "end_time": "2025-05-06T21:22:54.447043",
     "exception": false,
     "start_time": "2025-05-06T21:22:54.436128",
     "status": "completed"
    },
    "tags": []
   },
   "source": [
    "# Looking ahead toward quantum circuits"
   ]
  },
  {
   "cell_type": "code",
   "execution_count": 15,
   "id": "c1cc93ca",
   "metadata": {
    "execution": {
     "iopub.execute_input": "2025-05-06T21:22:54.545682Z",
     "iopub.status.busy": "2025-05-06T21:22:54.545340Z",
     "iopub.status.idle": "2025-05-06T21:22:54.753063Z",
     "shell.execute_reply": "2025-05-06T21:22:54.752056Z"
    },
    "papermill": {
     "duration": 0.222401,
     "end_time": "2025-05-06T21:22:54.755448",
     "exception": false,
     "start_time": "2025-05-06T21:22:54.533047",
     "status": "completed"
    },
    "tags": []
   },
   "outputs": [
    {
     "data": {
      "image/png": "[encoded data removed]",
      "text/plain": [
       "<Figure size 519.897x117.056 with 1 Axes>"
      ]
     },
     "metadata": {},
     "output_type": "display_data"
    }
   ],
   "source": [
    "from qiskit import QuantumCircuit\n",
    "\n",
    "circuit = QuantumCircuit(1)\n",
    "\n",
    "circuit.h(0)\n",
    "circuit.t(0)\n",
    "circuit.h(0)\n",
    "circuit.s(0)\n",
    "circuit.y(0)\n",
    "\n",
    "display(circuit.draw(output=\"mpl\"))"
   ]
  },
  {
   "cell_type": "code",
   "execution_count": 16,
   "id": "00ddf043",
   "metadata": {
    "execution": {
     "iopub.execute_input": "2025-05-06T21:22:54.780123Z",
     "iopub.status.busy": "2025-05-06T21:22:54.779784Z",
     "iopub.status.idle": "2025-05-06T21:22:54.868693Z",
     "shell.execute_reply": "2025-05-06T21:22:54.867736Z"
    },
    "papermill": {
     "duration": 0.103724,
     "end_time": "2025-05-06T21:22:54.870306",
     "exception": false,
     "start_time": "2025-05-06T21:22:54.766582",
     "status": "completed"
    },
    "tags": []
   },
   "outputs": [
    {
     "data": {
      "text/latex": [
       "$$\n",
       "\n",
       "\\begin{bmatrix}\n",
       "0.1464466094 - 0.3535533906 i & 0.8535533906 + 0.3535533906 i  \\\\\n",
       " -0.3535533906 + 0.8535533906 i & 0.3535533906 + 0.1464466094 i  \\\\\n",
       " \\end{bmatrix}\n",
       "$$"
      ],
      "text/plain": [
       "<IPython.core.display.Latex object>"
      ]
     },
     "metadata": {},
     "output_type": "display_data"
    }
   ],
   "source": [
    "display(Operator.from_circuit(circuit).draw(\"latex\"))"
   ]
  },
  {
   "cell_type": "code",
   "execution_count": 17,
   "id": "ce06ea46",
   "metadata": {
    "execution": {
     "iopub.execute_input": "2025-05-06T21:22:54.892323Z",
     "iopub.status.busy": "2025-05-06T21:22:54.892039Z",
     "iopub.status.idle": "2025-05-06T21:22:54.939382Z",
     "shell.execute_reply": "2025-05-06T21:22:54.938566Z"
    },
    "papermill": {
     "duration": 0.060073,
     "end_time": "2025-05-06T21:22:54.940876",
     "exception": false,
     "start_time": "2025-05-06T21:22:54.880803",
     "status": "completed"
    },
    "tags": []
   },
   "outputs": [
    {
     "data": {
      "text/latex": [
       "$$(0.1464466094 - 0.3535533906 i) |0\\rangle+(-0.3535533906 + 0.8535533906 i) |1\\rangle$$"
      ],
      "text/plain": [
       "<IPython.core.display.Latex object>"
      ]
     },
     "metadata": {},
     "output_type": "display_data"
    }
   ],
   "source": [
    "ket0 = Statevector([1, 0])\n",
    "v = ket0.evolve(circuit)\n",
    "display(v.draw(\"latex\"))"
   ]
  },
  {
   "cell_type": "code",
   "execution_count": 18,
   "id": "c1a0b11f",
   "metadata": {
    "execution": {
     "iopub.execute_input": "2025-05-06T21:22:54.962614Z",
     "iopub.status.busy": "2025-05-06T21:22:54.962338Z",
     "iopub.status.idle": "2025-05-06T21:22:55.170219Z",
     "shell.execute_reply": "2025-05-06T21:22:55.169159Z"
    },
    "papermill": {
     "duration": 0.220728,
     "end_time": "2025-05-06T21:22:55.171760",
     "exception": false,
     "start_time": "2025-05-06T21:22:54.951032",
     "status": "completed"
    },
    "tags": []
   },
   "outputs": [
    {
     "data": {
      "image/png": "[encoded data removed]",
      "text/plain": [
       "<Figure size 640x480 with 1 Axes>"
      ]
     },
     "metadata": {},
     "output_type": "display_data"
    }
   ],
   "source": [
    "statistics = v.sample_counts(4000)\n",
    "display(plot_histogram(statistics))"
   ]
  }
 ],
 "metadata": {
  "kaggle": {
   "accelerator": "none",
   "dataSources": [],
   "dockerImageVersionId": 31012,
   "isGpuEnabled": false,
   "isInternetEnabled": true,
   "language": "python",
   "sourceType": "notebook"
  },
  "kernelspec": {
   "display_name": "Python 3",
   "language": "python",
   "name": "python3"
  },
  "language_info": {
   "codemirror_mode": {
    "name": "ipython",
    "version": 3
   },
   "file_extension": ".py",
   "mimetype": "text/x-python",
   "name": "python",
   "nbconvert_exporter": "python",
   "pygments_lexer": "ipython3",
   "version": "3.11.11"
  },
  "papermill": {
   "default_parameters": {},
   "duration": 38.539704,
   "end_time": "2025-05-06T21:22:55.905350",
   "environment_variables": {},
   "exception": null,
   "input_path": "__notebook__.ipynb",
   "output_path": "__notebook__.ipynb",
   "parameters": {},
   "start_time": "2025-05-06T21:22:17.365646",
   "version": "2.6.0"
  }
 },
 "nbformat": 4,
 "nbformat_minor": 5
}
